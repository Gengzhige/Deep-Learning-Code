{
 "cells": [
  {
   "cell_type": "markdown",
   "id": "c9e9f75f",
   "metadata": {},
   "source": [
    "### 线性回归回顾"
   ]
  },
  {
   "cell_type": "markdown",
   "id": "86755e76",
   "metadata": {},
   "source": [
    "首先简单回顾一下，线性回归是一种机器学习算法，它用于预测连续的输出变量（也称为目标变量或响应变量），其中输出变量与输入变量之间具有线性关系。\n",
    "\n",
    "在线性回归中，我们假设输出变量与输入变量之间具有如下线性关系：\n",
    "\n",
    "$$ y = wx + b $$\n",
    "\n",
    "其中，$y$ 是输出变量，$x$ 是输入变量，$w$ 和 $b$ 是参数，$w$ 称为权重或斜率，$b$ 称为偏差。\n",
    "\n",
    "我们的目标是通过训练样本，找到最优的参数 $w$ 和 $b$，使得模型能够准确地预测新的样本。为了找到最优的参数，我们需要定义一个损失函数，表示模型的预测精度。在线性回归中，常用的损失函数是均方误差（mean squared error, MSE）：\n",
    "\n",
    "$$ MSE = \\frac{1}{n}\\sum_{i=1}^{n}(y_{i} - \\hat{y}_{i})^{2} $$\n",
    "\n",
    "其中，$y_{i}$ 是第 $i$ 个样本的真实输出值，$\\hat{y}_{i}$ 是模型预测的输出值，$n$ 是样本数量。\n",
    "\n",
    "可以使用梯度下降算法来最小化损失函数，即不断更新参数 $w$ 和 $b$，使得损失函数的值越来越小。\n",
    "\n",
    "具体来说，我们需要计算损失函数对 $w$ 和 $b$ 的梯度，然后按照如下公式更新参数：\n",
    "\n",
    "$$ w = w - \\alpha \\frac{\\partial L}{\\partial w} $$\n",
    "$$ b = b - \\alpha \\frac{\\partial L}{\\partial b} $$\n",
    "\n",
    "其中，$\\alpha$ 是学习率，$L$ 是损失函数，$\\frac{\\partial L}{\\partial w}$ 和 $\\frac{\\partial L}{\\partial b}$ 分别表示损失函数对 $w$ 和 $b$ 的梯度。\n",
    "\n",
    "我们可以重复进行这个过程，直到损失函数的值足够小，或者达到了设定的最大迭代次数为止。"
   ]
  },
  {
   "cell_type": "markdown",
   "id": "f407593e",
   "metadata": {},
   "source": [
    "### 代码实现"
   ]
  },
  {
   "cell_type": "markdown",
   "id": "6fdce9d0",
   "metadata": {},
   "source": [
    "#### 数据生成"
   ]
  },
  {
   "cell_type": "code",
   "execution_count": 1,
   "id": "9326cdd6",
   "metadata": {},
   "outputs": [],
   "source": [
    "import numpy as np\n",
    "import torch\n",
    "\n",
    "# 设置随机数种子，使得每次运行代码生成的数据相同\n",
    "np.random.seed(42)\n",
    "\n",
    "# 生成随机数据，w为2，b为1\n",
    "x = np.random.rand(100, 1)\n",
    "y = 1 + 2 * x + 0.1 * np.random.randn(100, 1)\n",
    "\n",
    "# 将数据转换为 pytorch tensor\n",
    "x_tensor = torch.from_numpy(x).float()\n",
    "y_tensor = torch.from_numpy(y).float()"
   ]
  },
  {
   "cell_type": "markdown",
   "id": "dcbde546",
   "metadata": {},
   "source": [
    "#### 设置超参数"
   ]
  },
  {
   "cell_type": "code",
   "execution_count": 2,
   "id": "b260e02c",
   "metadata": {},
   "outputs": [],
   "source": [
    "# 设置超参数\n",
    "learning_rate = 0.1\n",
    "num_epochs = 1000"
   ]
  },
  {
   "cell_type": "markdown",
   "id": "4c6c5823",
   "metadata": {},
   "source": [
    "#### 初始化参数"
   ]
  },
  {
   "cell_type": "code",
   "execution_count": 3,
   "id": "be6bc47e",
   "metadata": {},
   "outputs": [],
   "source": [
    "# 初始化参数，可以使用常数、随机数或预训练等\n",
    "w = torch.randn(1, requires_grad = True)\n",
    "b = torch.zeros(1, requires_grad = True)"
   ]
  },
  {
   "cell_type": "markdown",
   "id": "2e6c94f4",
   "metadata": {},
   "source": [
    "#### 开始训练"
   ]
  },
  {
   "cell_type": "code",
   "execution_count": 4,
   "id": "edbed799",
   "metadata": {
    "scrolled": true
   },
   "outputs": [
    {
     "name": "stdout",
     "output_type": "stream",
     "text": [
      "w: tensor([1.9540], requires_grad=True)\n",
      "b: tensor([1.0215], requires_grad=True)\n"
     ]
    }
   ],
   "source": [
    "# 开始训练\n",
    "for epoch in range(num_epochs):\n",
    "    # 计算预测值\n",
    "    y_pred = x_tensor * w + b\n",
    "\n",
    "    # 计算损失\n",
    "    loss = ((y_pred - y_tensor) ** 2).mean()\n",
    "\n",
    "    # 反向传播\n",
    "    loss.backward()\n",
    "\n",
    "    # 更新参数\n",
    "    with torch.no_grad():\n",
    "        w -= learning_rate * w.grad\n",
    "        b -= learning_rate * b.grad\n",
    "\n",
    "        # 清空梯度\n",
    "        w.grad.zero_()\n",
    "        b.grad.zero_()\n",
    "\n",
    "# 输出训练后的参数，与数据生成时设置的常数基本一致\n",
    "print('w:', w)\n",
    "print('b:', b)"
   ]
  },
  {
   "cell_type": "markdown",
   "id": "da9e98a3",
   "metadata": {},
   "source": [
    "#### 可视化"
   ]
  },
  {
   "cell_type": "code",
   "execution_count": 5,
   "id": "2e1d414b",
   "metadata": {},
   "outputs": [
    {
     "data": {
      "image/png": "[encoded data removed]",
      "text/plain": [
       "<Figure size 432x288 with 1 Axes>"
      ]
     },
     "metadata": {
      "needs_background": "light"
     },
     "output_type": "display_data"
    }
   ],
   "source": [
    "import matplotlib.pyplot as plt\n",
    "\n",
    "plt.plot(x, y, 'o')\n",
    "plt.plot(x_tensor.numpy(), y_pred.detach().numpy())\n",
    "plt.show()"
   ]
  },
  {
   "cell_type": "markdown",
   "id": "a6673f9a",
   "metadata": {},
   "source": [
    "### 完整代码"
   ]
  },
  {
   "cell_type": "code",
   "execution_count": 6,
   "id": "b0d2ed6a",
   "metadata": {},
   "outputs": [
    {
     "name": "stdout",
     "output_type": "stream",
     "text": [
      "w: tensor([1.9540], requires_grad=True)\n",
      "b: tensor([1.0215], requires_grad=True)\n"
     ]
    }
   ],
   "source": [
    "import numpy as np\n",
    "import torch\n",
    "\n",
    "# 设置随机数种子，使得每次运行代码生成的数据相同\n",
    "np.random.seed(42)\n",
    "\n",
    "# 生成随机数据，w为2，b为1\n",
    "x = np.random.rand(100, 1)\n",
    "y = 1 + 2 * x + 0.1 * np.random.randn(100, 1)\n",
    "\n",
    "# 将数据转换为 pytorch tensor\n",
    "x_tensor = torch.from_numpy(x).float()\n",
    "y_tensor = torch.from_numpy(y).float()\n",
    "\n",
    "# 设置超参数\n",
    "learning_rate = 0.1\n",
    "num_epochs = 1000\n",
    "\n",
    "# 初始化参数，可以使用常数、随机数或预训练等\n",
    "w = torch.randn(1, requires_grad=True)\n",
    "b = torch.zeros(1, requires_grad=True)\n",
    "\n",
    "# 开始训练\n",
    "for epoch in range(num_epochs):\n",
    "    # 计算预测值\n",
    "    y_pred = x_tensor * w + b\n",
    "\n",
    "    # 计算损失\n",
    "    loss = ((y_pred - y_tensor) ** 2).mean()\n",
    "\n",
    "    # 反向传播\n",
    "    loss.backward()\n",
    "\n",
    "    # 更新参数\n",
    "    with torch.no_grad():\n",
    "        w -= learning_rate * w.grad\n",
    "        b -= learning_rate * b.grad\n",
    "\n",
    "        # 清空梯度\n",
    "        w.grad.zero_()\n",
    "        b.grad.zero_()\n",
    "\n",
    "# 输出训练后的参数，与数据生成时设置的常数基本一致\n",
    "print('w:', w)\n",
    "print('b:', b)"
   ]
  },
  {
   "cell_type": "markdown",
   "id": "7b633db9",
   "metadata": {},
   "source": [
    "### Pytorch模型实现"
   ]
  },
  {
   "cell_type": "code",
   "execution_count": 7,
   "id": "85684228",
   "metadata": {},
   "outputs": [
    {
     "name": "stdout",
     "output_type": "stream",
     "text": [
      "w: tensor([[1.9540]])\n",
      "b: tensor([1.0215])\n"
     ]
    }
   ],
   "source": [
    "import numpy as np\n",
    "import torch\n",
    "import torch.nn as nn\n",
    "\n",
    "# 设置随机数种子，使得每次运行代码生成的数据相同\n",
    "np.random.seed(42)\n",
    "\n",
    "# 生成随机数据\n",
    "x = np.random.rand(100, 1)\n",
    "y = 1 + 2 * x + 0.1 * np.random.randn(100, 1)\n",
    "\n",
    "# 将数据转换为 pytorch tensor\n",
    "x_tensor = torch.from_numpy(x).float()\n",
    "y_tensor = torch.from_numpy(y).float()\n",
    "\n",
    "# 设置超参数\n",
    "learning_rate = 0.1\n",
    "num_epochs = 1000\n",
    "\n",
    "# 定义输入数据的维度和输出数据的维度\n",
    "input_dim = 1\n",
    "output_dim = 1\n",
    "\n",
    "# 定义模型，就是一个神经元\n",
    "model = nn.Linear(input_dim, output_dim)\n",
    "\n",
    "# 定义损失函数和优化器\n",
    "criterion = nn.MSELoss()\n",
    "optimizer = torch.optim.SGD(model.parameters(), lr = learning_rate)\n",
    "\n",
    "# 开始训练\n",
    "for epoch in range(num_epochs):\n",
    "    # 将输入数据喂给模型\n",
    "    y_pred = model(x_tensor)\n",
    "\n",
    "    # 计算损失\n",
    "    loss = criterion(y_pred, y_tensor)\n",
    "    \n",
    "    # 清空梯度\n",
    "    optimizer.zero_grad()\n",
    "\n",
    "    # 反向传播\n",
    "    loss.backward()\n",
    "\n",
    "    # 更新参数\n",
    "    optimizer.step()\n",
    "\n",
    "# 输出训练后的参数\n",
    "print('w:', model.weight.data)\n",
    "print('b:', model.bias.data)"
   ]
  },
  {
   "cell_type": "code",
   "execution_count": null,
   "id": "37131c58",
   "metadata": {},
   "outputs": [],
   "source": []
  }
 ],
 "metadata": {
  "kernelspec": {
   "display_name": "Python 3 (ipykernel)",
   "language": "python",
   "name": "python3"
  },
  "language_info": {
   "codemirror_mode": {
    "name": "ipython",
    "version": 3
   },
   "file_extension": ".py",
   "mimetype": "text/x-python",
   "name": "python",
   "nbconvert_exporter": "python",
   "pygments_lexer": "ipython3",
   "version": "3.8.10"
  },
  "toc": {
   "base_numbering": 1,
   "nav_menu": {
    "height": "68px",
    "width": "172px"
   },
   "number_sections": true,
   "sideBar": true,
   "skip_h1_title": false,
   "title_cell": "Table of Contents",
   "title_sidebar": "Contents",
   "toc_cell": false,
   "toc_position": {
    "height": "calc(100% - 180px)",
    "left": "10px",
    "top": "150px",
    "width": "180.6px"
   },
   "toc_section_display": true,
   "toc_window_display": true
  }
 },
 "nbformat": 4,
 "nbformat_minor": 5
}
