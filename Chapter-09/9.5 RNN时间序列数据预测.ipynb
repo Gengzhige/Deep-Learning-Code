{
 "cells": [
  {
   "cell_type": "markdown",
   "id": "895f27db",
   "metadata": {},
   "source": [
    "# 1 时间序列数据预测"
   ]
  },
  {
   "cell_type": "markdown",
   "id": "14a78ae4",
   "metadata": {},
   "source": [
    "## 1.1 数据集引入"
   ]
  },
  {
   "cell_type": "code",
   "execution_count": 1,
   "id": "3ced415a",
   "metadata": {},
   "outputs": [
    {
     "data": {
      "text/html": [
       "<div>\n",
       "<style scoped>\n",
       "    .dataframe tbody tr th:only-of-type {\n",
       "        vertical-align: middle;\n",
       "    }\n",
       "\n",
       "    .dataframe tbody tr th {\n",
       "        vertical-align: top;\n",
       "    }\n",
       "\n",
       "    .dataframe thead th {\n",
       "        text-align: right;\n",
       "    }\n",
       "</style>\n",
       "<table border=\"1\" class=\"dataframe\">\n",
       "  <thead>\n",
       "    <tr style=\"text-align: right;\">\n",
       "      <th></th>\n",
       "      <th>GS10</th>\n",
       "    </tr>\n",
       "    <tr>\n",
       "      <th>DATE</th>\n",
       "      <th></th>\n",
       "    </tr>\n",
       "  </thead>\n",
       "  <tbody>\n",
       "    <tr>\n",
       "      <th>2018-02-01</th>\n",
       "      <td>2.86</td>\n",
       "    </tr>\n",
       "    <tr>\n",
       "      <th>2018-03-01</th>\n",
       "      <td>2.84</td>\n",
       "    </tr>\n",
       "    <tr>\n",
       "      <th>2018-04-01</th>\n",
       "      <td>2.87</td>\n",
       "    </tr>\n",
       "    <tr>\n",
       "      <th>2018-05-01</th>\n",
       "      <td>2.98</td>\n",
       "    </tr>\n",
       "    <tr>\n",
       "      <th>2018-06-01</th>\n",
       "      <td>2.91</td>\n",
       "    </tr>\n",
       "  </tbody>\n",
       "</table>\n",
       "</div>"
      ],
      "text/plain": [
       "            GS10\n",
       "DATE            \n",
       "2018-02-01  2.86\n",
       "2018-03-01  2.84\n",
       "2018-04-01  2.87\n",
       "2018-05-01  2.98\n",
       "2018-06-01  2.91"
      ]
     },
     "execution_count": 1,
     "metadata": {},
     "output_type": "execute_result"
    }
   ],
   "source": [
    "import pandas_datareader as pdr\n",
    "gs10 = pdr.get_data_fred('GS10')\n",
    "gs10.head()"
   ]
  },
  {
   "cell_type": "markdown",
   "id": "cae01416",
   "metadata": {},
   "source": [
    "## 1.2 绘制数据图像"
   ]
  },
  {
   "cell_type": "code",
   "execution_count": 2,
   "id": "773eae8a",
   "metadata": {},
   "outputs": [
    {
     "data": {
      "image/png": "[encoded data removed]",
      "text/plain": [
       "<Figure size 432x288 with 1 Axes>"
      ]
     },
     "metadata": {
      "needs_background": "light"
     },
     "output_type": "display_data"
    }
   ],
   "source": [
    "import matplotlib.pyplot as plt\n",
    "plt.plot(gs10)\n",
    "plt.show()"
   ]
  },
  {
   "cell_type": "markdown",
   "id": "17a4fbaf",
   "metadata": {},
   "source": [
    "## 1.3 数据预处理"
   ]
  },
  {
   "cell_type": "code",
   "execution_count": 3,
   "id": "9f182f04",
   "metadata": {},
   "outputs": [],
   "source": [
    "import torch\n",
    "from torch.utils.data import DataLoader, TensorDataset\n",
    "\n",
    "num = len(gs10)                           # 总数据量\n",
    "x = torch.tensor(gs10['GS10'].to_list())  # 股价列表\n",
    "seq_len = 6                               # 预测序列长度\n",
    "batch_size = 4                            # 设置批大小\n",
    "\n",
    "X_feature = torch.zeros((num - seq_len, seq_len))      # 全零初始化特征矩阵，num-seq_len行，seq_len列\n",
    "for i in range(seq_len):\n",
    "    X_feature[:, i] = x[i: num - seq_len + i]    # 为特征矩阵赋值\n",
    "y_label = x[seq_len:].reshape((-1, 1))           # 真实结果列表\n",
    "\n",
    "train_loader = DataLoader(TensorDataset(X_feature[:num-seq_len], \n",
    "    y_label[:num-seq_len]), batch_size=batch_size, shuffle=True)  # 构建数据加载器"
   ]
  },
  {
   "cell_type": "code",
   "execution_count": 4,
   "id": "b9513687",
   "metadata": {},
   "outputs": [
    {
     "data": {
      "text/plain": [
       "(tensor([[2.8600, 2.8400, 2.8700, 2.9800, 2.9100, 2.8900],\n",
       "         [2.8400, 2.8700, 2.9800, 2.9100, 2.8900, 2.8900],\n",
       "         [2.8700, 2.9800, 2.9100, 2.8900, 2.8900, 3.0000],\n",
       "         [2.9800, 2.9100, 2.8900, 2.8900, 3.0000, 3.1500]]),\n",
       " tensor([[2.8900],\n",
       "         [3.0000],\n",
       "         [3.1500],\n",
       "         [3.1200]]))"
      ]
     },
     "execution_count": 4,
     "metadata": {},
     "output_type": "execute_result"
    }
   ],
   "source": [
    "train_loader.dataset[:batch_size]"
   ]
  },
  {
   "cell_type": "markdown",
   "id": "234b2cf6",
   "metadata": {},
   "source": [
    "## 1.4 构建基本神经网络模型"
   ]
  },
  {
   "cell_type": "code",
   "execution_count": 5,
   "id": "c242b625",
   "metadata": {},
   "outputs": [],
   "source": [
    "from torch import nn\n",
    "from tqdm import *\n",
    "\n",
    "class Model(nn.Module):\n",
    "    def __init__(self, input_size, output_size, num_hiddens):\n",
    "        super().__init__()\n",
    "        self.linear1 = nn.Linear(input_size, num_hiddens)\n",
    "        self.linear2 = nn.Linear(num_hiddens, output_size)\n",
    "\n",
    "    \n",
    "    def forward(self, X):\n",
    "        output = torch.relu(self.linear1(X))\n",
    "        output = self.linear2(output)\n",
    "        return output\n",
    "\n",
    "# 定义超参数\n",
    "input_size = seq_len\n",
    "output_size = 1\n",
    "num_hiddens = 10  \n",
    "lr = 0.01\n",
    "\n",
    "# 建立模型\n",
    "model = Model(input_size, output_size, num_hiddens)\n",
    "criterion = nn.MSELoss(reduction='none')\n",
    "trainer = torch.optim.Adam(model.parameters(), lr)"
   ]
  },
  {
   "cell_type": "markdown",
   "id": "c391b9ea",
   "metadata": {},
   "source": [
    "## 1.5 模型训练"
   ]
  },
  {
   "cell_type": "code",
   "execution_count": 6,
   "id": "8943e3ad",
   "metadata": {},
   "outputs": [
    {
     "name": "stderr",
     "output_type": "stream",
     "text": [
      "100%|██████████| 20/20 [00:00<00:00, 130.13it/s]\n"
     ]
    },
    {
     "name": "stdout",
     "output_type": "stream",
     "text": [
      "Epoch 1: Validation loss = 0.7089\n",
      "Epoch 2: Validation loss = 0.4812\n",
      "Epoch 3: Validation loss = 0.2999\n",
      "Epoch 4: Validation loss = 0.2695\n",
      "Epoch 5: Validation loss = 0.2106\n",
      "Epoch 6: Validation loss = 0.2270\n",
      "Epoch 7: Validation loss = 0.1922\n",
      "Epoch 8: Validation loss = 0.1899\n",
      "Epoch 9: Validation loss = 0.1816\n",
      "Epoch 10: Validation loss = 0.1578\n",
      "Epoch 11: Validation loss = 0.1442\n",
      "Epoch 12: Validation loss = 0.1734\n",
      "Epoch 13: Validation loss = 0.1430\n",
      "Epoch 14: Validation loss = 0.1842\n",
      "Epoch 15: Validation loss = 0.1331\n",
      "Epoch 16: Validation loss = 0.1289\n",
      "Epoch 17: Validation loss = 0.1232\n",
      "Epoch 18: Validation loss = 0.1135\n",
      "Epoch 19: Validation loss = 0.1444\n",
      "Epoch 20: Validation loss = 0.1159\n"
     ]
    },
    {
     "data": {
      "image/png": "[encoded data removed]",
      "text/plain": [
       "<Figure size 432x288 with 1 Axes>"
      ]
     },
     "metadata": {
      "needs_background": "light"
     },
     "output_type": "display_data"
    }
   ],
   "source": [
    "num_epochs = 20\n",
    "loss_history = []\n",
    "\n",
    "for epoch in tqdm(range(num_epochs)):\n",
    "    # 批量训练\n",
    "    for X, y in train_loader:\n",
    "        trainer.zero_grad()\n",
    "        y_pred = model(X)\n",
    "        loss = criterion(y_pred, y)\n",
    "        loss.sum().backward()\n",
    "        trainer.step()\n",
    "     # 输出损失\n",
    "    model.eval()\n",
    "    with torch.no_grad():\n",
    "        total_loss = 0\n",
    "        for X, y in train_loader:\n",
    "            y_pred = model(X)\n",
    "            loss = criterion(y_pred, y)\n",
    "            total_loss += loss.sum()/loss.numel()\n",
    "        avg_loss = total_loss / len(train_loader)\n",
    "        print(f'Epoch {epoch+1}: Validation loss = {avg_loss:.4f}')\n",
    "        loss_history.append(avg_loss)\n",
    "    \n",
    "# 绘制损失和准确率的曲线图\n",
    "import matplotlib.pyplot as plt\n",
    "plt.plot(loss_history, label='loss')\n",
    "plt.legend()\n",
    "plt.show()"
   ]
  },
  {
   "cell_type": "markdown",
   "id": "0deedd27",
   "metadata": {},
   "source": [
    "## 1.6 模型预测"
   ]
  },
  {
   "cell_type": "code",
   "execution_count": 7,
   "id": "09dfd45d",
   "metadata": {},
   "outputs": [
    {
     "data": {
      "image/png": "[encoded data removed]",
      "text/plain": [
       "<Figure size 432x288 with 1 Axes>"
      ]
     },
     "metadata": {
      "needs_background": "light"
     },
     "output_type": "display_data"
    }
   ],
   "source": [
    "preds = model(X_feature)\n",
    "time = torch.arange(1, num+1, dtype= torch.float32)  # 时间轴\n",
    "\n",
    "plt.plot(time[:num-seq_len], gs10['GS10'].to_list()[seq_len:num], label='gs10')\n",
    "plt.plot(time[:num-seq_len], preds.detach().numpy(), label='preds')\n",
    "plt.legend()\n",
    "plt.show()"
   ]
  },
  {
   "cell_type": "markdown",
   "id": "55d0002b",
   "metadata": {},
   "source": [
    "# 2 RNN模型预测"
   ]
  },
  {
   "cell_type": "markdown",
   "id": "a9ee5be9",
   "metadata": {},
   "source": [
    "## 2.1 数据预处理"
   ]
  },
  {
   "cell_type": "markdown",
   "id": "d25a3d90",
   "metadata": {},
   "source": [
    "一般神经网络模型结构如下：\n",
    "<img src=\"./images/image1.png\" width=\"30%\" ></img>"
   ]
  },
  {
   "cell_type": "markdown",
   "id": "24337a8b",
   "metadata": {},
   "source": [
    "循环神经网络模型结构如下："
   ]
  },
  {
   "attachments": {},
   "cell_type": "markdown",
   "id": "a2bbceca",
   "metadata": {},
   "source": [
    "<img src=\"./images/image2.png\" ></img>"
   ]
  },
  {
   "cell_type": "code",
   "execution_count": 8,
   "id": "291626d0",
   "metadata": {},
   "outputs": [],
   "source": [
    "import torch\n",
    "from torch.utils.data import DataLoader, TensorDataset\n",
    "\n",
    "num = len(gs10)                           # 总数据量，59\n",
    "x = torch.tensor(gs10['GS10'].to_list())  # 股价列表\n",
    "seq_len = 6                               # 预测序列长度\n",
    "batch_size = 4                            # 设置批大小\n",
    "\n",
    "X_feature = torch.zeros((num - seq_len, seq_len))      # 构建特征矩阵，num-seq_len行，seq_len列，初始值均为0\n",
    "Y_label = torch.zeros((num - seq_len, seq_len))        # 构建标签矩阵，形状同特征矩阵\n",
    "for i in range(seq_len):\n",
    "    X_feature[:, i] = x[i: num - seq_len + i]    # 为特征矩阵赋值\n",
    "    Y_label[:, i] = x[i+1: num - seq_len + i + 1]    # 为标签矩阵赋值\n",
    "\n",
    "train_loader = DataLoader(TensorDataset(\n",
    "    X_feature[:num-seq_len].unsqueeze(2), Y_label[:num-seq_len]),\n",
    "    batch_size=batch_size, shuffle=True)  # 构建数据加载器"
   ]
  },
  {
   "cell_type": "code",
   "execution_count": 9,
   "id": "ff31c7cd",
   "metadata": {},
   "outputs": [
    {
     "data": {
      "text/plain": [
       "(tensor([[[2.8600],\n",
       "          [2.8400],\n",
       "          [2.8700],\n",
       "          [2.9800],\n",
       "          [2.9100],\n",
       "          [2.8900]],\n",
       " \n",
       "         [[2.8400],\n",
       "          [2.8700],\n",
       "          [2.9800],\n",
       "          [2.9100],\n",
       "          [2.8900],\n",
       "          [2.8900]],\n",
       " \n",
       "         [[2.8700],\n",
       "          [2.9800],\n",
       "          [2.9100],\n",
       "          [2.8900],\n",
       "          [2.8900],\n",
       "          [3.0000]],\n",
       " \n",
       "         [[2.9800],\n",
       "          [2.9100],\n",
       "          [2.8900],\n",
       "          [2.8900],\n",
       "          [3.0000],\n",
       "          [3.1500]]]),\n",
       " tensor([[2.8400, 2.8700, 2.9800, 2.9100, 2.8900, 2.8900],\n",
       "         [2.8700, 2.9800, 2.9100, 2.8900, 2.8900, 3.0000],\n",
       "         [2.9800, 2.9100, 2.8900, 2.8900, 3.0000, 3.1500],\n",
       "         [2.9100, 2.8900, 2.8900, 3.0000, 3.1500, 3.1200]]))"
      ]
     },
     "execution_count": 9,
     "metadata": {},
     "output_type": "execute_result"
    }
   ],
   "source": [
    "train_loader.dataset[:batch_size]"
   ]
  },
  {
   "cell_type": "markdown",
   "id": "0d87ca39",
   "metadata": {},
   "source": [
    "## 2.2 构建循环神经网络模型"
   ]
  },
  {
   "cell_type": "code",
   "execution_count": 10,
   "id": "13181453",
   "metadata": {},
   "outputs": [],
   "source": [
    "from torch import nn\n",
    "from tqdm import *\n",
    "\n",
    "class RNNModel(nn.Module):\n",
    "    def __init__(self, input_size, output_size, num_hiddens, n_layers):\n",
    "        super(RNNModel, self).__init__()\n",
    "        self.num_hiddens = num_hiddens\n",
    "        self.n_layers = n_layers\n",
    "        self.rnn = nn.RNN(input_size, num_hiddens, n_layers, batch_first = True)\n",
    "        self.linear = nn.Linear(num_hiddens, output_size)\n",
    "       \n",
    "    def forward(self, X):\n",
    "        batch_size = X.size(0)\n",
    "        state = self.begin_state(batch_size)\n",
    "        output, state = self.rnn(X, state)\n",
    "        output = self.linear(torch.relu(output))\n",
    "        return output, state\n",
    "\n",
    "    def begin_state(self, batch_size=1):\n",
    "        return  torch.zeros(self.n_layers, batch_size, self.num_hiddens)\n",
    "\n",
    "# 定义超参数\n",
    "input_size = 1\n",
    "output_size = 1\n",
    "num_hiddens = 10\n",
    "n_layers = 1\n",
    "lr = 0.01\n",
    "\n",
    "# 建立模型\n",
    "model = RNNModel(input_size, output_size, num_hiddens, n_layers)\n",
    "criterion = nn.MSELoss(reduction='none')\n",
    "trainer = torch.optim.Adam(model.parameters(), lr)"
   ]
  },
  {
   "cell_type": "markdown",
   "id": "222bb56e",
   "metadata": {},
   "source": [
    "## 2.3 训练"
   ]
  },
  {
   "cell_type": "code",
   "execution_count": 11,
   "id": "776fa213",
   "metadata": {},
   "outputs": [
    {
     "name": "stderr",
     "output_type": "stream",
     "text": [
      " 35%|███▌      | 7/20 [00:00<00:00, 62.68it/s]"
     ]
    },
    {
     "name": "stdout",
     "output_type": "stream",
     "text": [
      "Epoch 1: Validation loss = 1.2063\n",
      "Epoch 2: Validation loss = 0.6640\n",
      "Epoch 3: Validation loss = 0.6163\n",
      "Epoch 4: Validation loss = 0.5854\n",
      "Epoch 5: Validation loss = 0.4029\n",
      "Epoch 6: Validation loss = 0.3159\n",
      "Epoch 7: Validation loss = 0.1687\n",
      "Epoch 8: Validation loss = 0.1145\n",
      "Epoch 9: Validation loss = 0.0840\n",
      "Epoch 10: Validation loss = 0.0751\n",
      "Epoch 11: Validation loss = 0.1014\n",
      "Epoch 12: Validation loss = 0.0798\n",
      "Epoch 13: Validation loss = 0.0535\n"
     ]
    },
    {
     "name": "stderr",
     "output_type": "stream",
     "text": [
      "100%|██████████| 20/20 [00:00<00:00, 63.90it/s]"
     ]
    },
    {
     "name": "stdout",
     "output_type": "stream",
     "text": [
      "Epoch 14: Validation loss = 0.0552\n",
      "Epoch 15: Validation loss = 0.0517\n",
      "Epoch 16: Validation loss = 0.0510\n",
      "Epoch 17: Validation loss = 0.0488\n",
      "Epoch 18: Validation loss = 0.0574\n",
      "Epoch 19: Validation loss = 0.0516\n",
      "Epoch 20: Validation loss = 0.0457\n"
     ]
    },
    {
     "name": "stderr",
     "output_type": "stream",
     "text": [
      "\n"
     ]
    },
    {
     "data": {
      "image/png": "[encoded data removed]",
      "text/plain": [
       "<Figure size 432x288 with 1 Axes>"
      ]
     },
     "metadata": {
      "needs_background": "light"
     },
     "output_type": "display_data"
    }
   ],
   "source": [
    "num_epochs = 20\n",
    "rnn_loss_history = []\n",
    "\n",
    "for epoch in tqdm(range(num_epochs)):\n",
    "    # 批量训练\n",
    "    for X, Y in train_loader:\n",
    "        trainer.zero_grad()\n",
    "        y_pred, state = model(X)\n",
    "        loss = criterion(y_pred.squeeze(), Y.squeeze())\n",
    "        loss.sum().backward()\n",
    "        trainer.step()\n",
    "     # 输出损失\n",
    "    model.eval()\n",
    "    with torch.no_grad():\n",
    "        total_loss = 0\n",
    "        for X, Y in train_loader:\n",
    "            y_pred, state = model(X)\n",
    "            loss = criterion(y_pred.squeeze(), Y.squeeze())\n",
    "            total_loss += loss.sum()/loss.numel()\n",
    "        avg_loss = total_loss / len(train_loader)\n",
    "        print(f'Epoch {epoch+1}: Validation loss = {avg_loss:.4f}')\n",
    "        rnn_loss_history.append(avg_loss)\n",
    "    \n",
    "# 绘制损失曲线图\n",
    "import matplotlib.pyplot as plt\n",
    "plt.plot(loss_history, label='loss')\n",
    "plt.plot(rnn_loss_history, label='RNN_loss')\n",
    "plt.legend()\n",
    "plt.show()"
   ]
  },
  {
   "cell_type": "markdown",
   "id": "9fb61a7e",
   "metadata": {},
   "source": [
    "## 2.4 预测"
   ]
  },
  {
   "cell_type": "code",
   "execution_count": 12,
   "id": "1f411f92",
   "metadata": {},
   "outputs": [
    {
     "data": {
      "image/png": "[encoded data removed]",
      "text/plain": [
       "<Figure size 432x288 with 1 Axes>"
      ]
     },
     "metadata": {
      "needs_background": "light"
     },
     "output_type": "display_data"
    }
   ],
   "source": [
    "rnn_preds,_ = model(X_feature.unsqueeze(2))\n",
    "preds.squeeze()\n",
    "time = torch.arange(1, num+1, dtype= torch.float32)  # 时间轴\n",
    "\n",
    "plt.plot(time[:num-seq_len], gs10['GS10'].to_list()[seq_len:num], label='gs10')\n",
    "plt.plot(time[:num-seq_len], preds.detach().numpy(), label='preds')\n",
    "plt.plot(time[:num-seq_len], rnn_preds[:,seq_len-1].detach().numpy(), label='RNN_preds')\n",
    "plt.legend()\n",
    "plt.show()"
   ]
  },
  {
   "cell_type": "code",
   "execution_count": 13,
   "id": "c93a2021",
   "metadata": {},
   "outputs": [
    {
     "data": {
      "text/plain": [
       "tensor([2.8600, 2.8400, 2.8700, 2.9800, 2.9100, 2.8900, 2.8900, 3.0000, 3.1500,\n",
       "        3.1200, 2.8300, 2.7100, 2.6800, 2.5700, 2.5300, 2.4000, 2.0700, 2.0600,\n",
       "        1.6300, 1.7000, 1.7100, 1.8100, 1.8600, 1.7600, 1.5000, 0.8700, 0.6600,\n",
       "        0.6700, 0.7300, 0.6200, 0.6500, 0.6800, 0.7900, 0.8700, 0.9300, 1.0800,\n",
       "        1.2600, 1.6100, 1.6400, 1.6200, 1.5200, 1.3200, 1.2800, 1.3700, 1.5800,\n",
       "        1.5600, 1.4700, 1.7600, 1.9300, 2.1300, 2.7500, 2.9000, 3.1400, 2.9000,\n",
       "        2.9000, 3.5200, 3.9800, 3.8900, 3.6200])"
      ]
     },
     "execution_count": 13,
     "metadata": {},
     "output_type": "execute_result"
    }
   ],
   "source": [
    "x"
   ]
  },
  {
   "cell_type": "code",
   "execution_count": null,
   "id": "aefeeb54",
   "metadata": {},
   "outputs": [],
   "source": []
  }
 ],
 "metadata": {
  "kernelspec": {
   "display_name": "Python 3 (ipykernel)",
   "language": "python",
   "name": "python3"
  },
  "language_info": {
   "codemirror_mode": {
    "name": "ipython",
    "version": 3
   },
   "file_extension": ".py",
   "mimetype": "text/x-python",
   "name": "python",
   "nbconvert_exporter": "python",
   "pygments_lexer": "ipython3",
   "version": "3.8.10"
  }
 },
 "nbformat": 4,
 "nbformat_minor": 5
}
