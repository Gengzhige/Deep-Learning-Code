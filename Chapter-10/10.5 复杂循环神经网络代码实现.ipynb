{
 "cells": [
  {
   "cell_type": "markdown",
   "id": "7f3d8e52",
   "metadata": {},
   "source": [
    "## 1. 模型定义"
   ]
  },
  {
   "cell_type": "markdown",
   "id": "a4293e19",
   "metadata": {},
   "source": [
    "### 1.1 深度循环神经网络"
   ]
  },
  {
   "cell_type": "code",
   "execution_count": 21,
   "id": "29adfdfa",
   "metadata": {},
   "outputs": [],
   "source": [
    "from torch import nn\n",
    "from tqdm import *\n",
    "\n",
    "class DRNN(nn.Module):\n",
    "    def __init__(self, input_size, output_size, hidden_size, num_layers):\n",
    "        super(DRNN, self).__init__()\n",
    "        self.hidden_size = hidden_size\n",
    "        self.num_layers = num_layers\n",
    "        self.rnn = nn.RNN(input_size, hidden_size, num_layers, batch_first=True) \n",
    "        # batch_first 为 True时output的tensor为（batch,seq,feature）,否则为（seq,batch,feature）\n",
    "        self.linear = nn.Linear(hidden_size, output_size)\n",
    "    \n",
    "    def forward(self, x):\n",
    "        # 初始化隐藏状态和细胞状态\n",
    "        state = torch.zeros(self.num_layers, x.size(0), self.hidden_size)\n",
    "        # 计算输出和最终隐藏状态\n",
    "        output, _ = self.rnn(x, state)\n",
    "        output = self.linear(output)\n",
    "        return output"
   ]
  },
  {
   "cell_type": "code",
   "execution_count": 2,
   "id": "ba1404f6",
   "metadata": {},
   "outputs": [
    {
     "name": "stdout",
     "output_type": "stream",
     "text": [
      "rnn.weight_ih_l0 : torch.Size([64, 16])\n",
      "rnn.weight_hh_l0 : torch.Size([64, 64])\n",
      "rnn.bias_ih_l0 : torch.Size([64])\n",
      "rnn.bias_hh_l0 : torch.Size([64])\n",
      "rnn.weight_ih_l1 : torch.Size([64, 64])\n",
      "rnn.weight_hh_l1 : torch.Size([64, 64])\n",
      "rnn.bias_ih_l1 : torch.Size([64])\n",
      "rnn.bias_hh_l1 : torch.Size([64])\n",
      "linear.weight : torch.Size([16, 64])\n",
      "linear.bias : torch.Size([16])\n"
     ]
    }
   ],
   "source": [
    "# 网络结构\n",
    "model = DRNN(16, 16, 64, 2)\n",
    "for name,parameters in model.named_parameters():\n",
    "    print(name,':',parameters.size())"
   ]
  },
  {
   "cell_type": "markdown",
   "id": "53bb152c",
   "metadata": {},
   "source": [
    "### 1.2 双向循环神经网络"
   ]
  },
  {
   "cell_type": "code",
   "execution_count": 3,
   "id": "389af29a",
   "metadata": {},
   "outputs": [],
   "source": [
    "class BRNN(nn.Module):\n",
    "    def __init__(self, input_size, output_size, hidden_size, num_layers):\n",
    "        super(BRNN, self).__init__()\n",
    "        self.hidden_size = hidden_size\n",
    "        self.num_layers = num_layers\n",
    "        self.rnn = nn.RNN(input_size, hidden_size, num_layers, batch_first=True, bidirectional=True) # bidirectional为True是双向\n",
    "        self.linear = nn.Linear(hidden_size * 2, output_size)  # 双向网络，因此有双倍hidden_size\n",
    "    \n",
    "    def forward(self, x):\n",
    "        # 初始化隐藏状态\n",
    "        state = torch.zeros(self.num_layers * 2, x.size(0), self.hidden_size) # 需要双倍的隐藏层\n",
    "        output, _ = self.rnn(x, state)\n",
    "        output = self.linear(output)\n",
    "        return output"
   ]
  },
  {
   "cell_type": "code",
   "execution_count": 4,
   "id": "df525aae",
   "metadata": {},
   "outputs": [
    {
     "name": "stdout",
     "output_type": "stream",
     "text": [
      "rnn.weight_ih_l0 : torch.Size([64, 16])\n",
      "rnn.weight_hh_l0 : torch.Size([64, 64])\n",
      "rnn.bias_ih_l0 : torch.Size([64])\n",
      "rnn.bias_hh_l0 : torch.Size([64])\n",
      "rnn.weight_ih_l0_reverse : torch.Size([64, 16])\n",
      "rnn.weight_hh_l0_reverse : torch.Size([64, 64])\n",
      "rnn.bias_ih_l0_reverse : torch.Size([64])\n",
      "rnn.bias_hh_l0_reverse : torch.Size([64])\n",
      "rnn.weight_ih_l1 : torch.Size([64, 128])\n",
      "rnn.weight_hh_l1 : torch.Size([64, 64])\n",
      "rnn.bias_ih_l1 : torch.Size([64])\n",
      "rnn.bias_hh_l1 : torch.Size([64])\n",
      "rnn.weight_ih_l1_reverse : torch.Size([64, 128])\n",
      "rnn.weight_hh_l1_reverse : torch.Size([64, 64])\n",
      "rnn.bias_ih_l1_reverse : torch.Size([64])\n",
      "rnn.bias_hh_l1_reverse : torch.Size([64])\n",
      "linear.weight : torch.Size([16, 128])\n",
      "linear.bias : torch.Size([16])\n"
     ]
    }
   ],
   "source": [
    "# 网络结构\n",
    "model = BRNN(16, 16, 64, 2)\n",
    "for name,parameters in model.named_parameters():\n",
    "    print(name,':',parameters.size())"
   ]
  },
  {
   "cell_type": "markdown",
   "id": "ca114119",
   "metadata": {},
   "source": [
    "### 1.3 长短期记忆网络"
   ]
  },
  {
   "cell_type": "code",
   "execution_count": 5,
   "id": "f4f734e7",
   "metadata": {},
   "outputs": [],
   "source": [
    "class LSTM(nn.Module):\n",
    "    def __init__(self, input_size, output_size, hidden_size, num_layers):\n",
    "        super(LSTM, self).__init__()\n",
    "        self.hidden_size = hidden_size\n",
    "        self.num_layers = num_layers\n",
    "        self.lstm = nn.LSTM(input_size, hidden_size, num_layers, batch_first=True) # LSTM\n",
    "        self.linear = nn.Linear(hidden_size, output_size)\n",
    "    \n",
    "    def forward(self, x):\n",
    "        output, _ = self.lstm(x)\n",
    "        output = self.linear(output)\n",
    "        return output"
   ]
  },
  {
   "cell_type": "code",
   "execution_count": 6,
   "id": "5fbf3629",
   "metadata": {},
   "outputs": [
    {
     "name": "stdout",
     "output_type": "stream",
     "text": [
      "lstm.weight_ih_l0 : torch.Size([256, 16])\n",
      "lstm.weight_hh_l0 : torch.Size([256, 64])\n",
      "lstm.bias_ih_l0 : torch.Size([256])\n",
      "lstm.bias_hh_l0 : torch.Size([256])\n",
      "lstm.weight_ih_l1 : torch.Size([256, 64])\n",
      "lstm.weight_hh_l1 : torch.Size([256, 64])\n",
      "lstm.bias_ih_l1 : torch.Size([256])\n",
      "lstm.bias_hh_l1 : torch.Size([256])\n",
      "linear.weight : torch.Size([16, 64])\n",
      "linear.bias : torch.Size([16])\n"
     ]
    }
   ],
   "source": [
    "# 网络结构\n",
    "model = LSTM(16, 16, 64, 2)\n",
    "for name,parameters in model.named_parameters():\n",
    "    print(name,':',parameters.size())"
   ]
  },
  {
   "cell_type": "markdown",
   "id": "cceebe63",
   "metadata": {},
   "source": [
    "### 1.4 门控循环单元"
   ]
  },
  {
   "cell_type": "code",
   "execution_count": 7,
   "id": "d83e9830",
   "metadata": {},
   "outputs": [],
   "source": [
    "class GRU(nn.Module):\n",
    "    def __init__(self, input_size, output_size, hidden_size, num_layers):\n",
    "        super(GRU, self).__init__()\n",
    "        self.hidden_size = hidden_size\n",
    "        self.num_layers = num_layers\n",
    "        self.gru = nn.GRU(input_size, hidden_size, num_layers, batch_first=True) # GRU\n",
    "        self.linear = nn.Linear(hidden_size, output_size)\n",
    "    \n",
    "    def forward(self, x):\n",
    "        output, _ = self.gru(x)\n",
    "        output = self.linear(output)\n",
    "        return output"
   ]
  },
  {
   "cell_type": "code",
   "execution_count": 8,
   "id": "0a6cdc9e",
   "metadata": {},
   "outputs": [
    {
     "name": "stdout",
     "output_type": "stream",
     "text": [
      "gru.weight_ih_l0 : torch.Size([192, 16])\n",
      "gru.weight_hh_l0 : torch.Size([192, 64])\n",
      "gru.bias_ih_l0 : torch.Size([192])\n",
      "gru.bias_hh_l0 : torch.Size([192])\n",
      "gru.weight_ih_l1 : torch.Size([192, 64])\n",
      "gru.weight_hh_l1 : torch.Size([192, 64])\n",
      "gru.bias_ih_l1 : torch.Size([192])\n",
      "gru.bias_hh_l1 : torch.Size([192])\n",
      "linear.weight : torch.Size([16, 64])\n",
      "linear.bias : torch.Size([16])\n"
     ]
    }
   ],
   "source": [
    "# 网络结构\n",
    "model = GRU(16, 16, 64, 2)\n",
    "for name,parameters in model.named_parameters():\n",
    "    print(name,':',parameters.size())"
   ]
  },
  {
   "cell_type": "markdown",
   "id": "309105e4",
   "metadata": {},
   "source": [
    "## 2. 模型实验"
   ]
  },
  {
   "cell_type": "markdown",
   "id": "ed98b2f2",
   "metadata": {},
   "source": [
    "### 2.1 数据集加载"
   ]
  },
  {
   "cell_type": "code",
   "execution_count": 9,
   "id": "1361d426",
   "metadata": {},
   "outputs": [
    {
     "data": {
      "text/html": [
       "<div>\n",
       "<style scoped>\n",
       "    .dataframe tbody tr th:only-of-type {\n",
       "        vertical-align: middle;\n",
       "    }\n",
       "\n",
       "    .dataframe tbody tr th {\n",
       "        vertical-align: top;\n",
       "    }\n",
       "\n",
       "    .dataframe thead th {\n",
       "        text-align: right;\n",
       "    }\n",
       "</style>\n",
       "<table border=\"1\" class=\"dataframe\">\n",
       "  <thead>\n",
       "    <tr style=\"text-align: right;\">\n",
       "      <th></th>\n",
       "      <th>Open</th>\n",
       "      <th>High</th>\n",
       "      <th>Low</th>\n",
       "      <th>Close</th>\n",
       "      <th>Volume</th>\n",
       "    </tr>\n",
       "    <tr>\n",
       "      <th>Date</th>\n",
       "      <th></th>\n",
       "      <th></th>\n",
       "      <th></th>\n",
       "      <th></th>\n",
       "      <th></th>\n",
       "    </tr>\n",
       "  </thead>\n",
       "  <tbody>\n",
       "    <tr>\n",
       "      <th>2023-02-10</th>\n",
       "      <td>33671.54</td>\n",
       "      <td>33897.31</td>\n",
       "      <td>33591.99</td>\n",
       "      <td>33869.27</td>\n",
       "      <td>289863415.0</td>\n",
       "    </tr>\n",
       "    <tr>\n",
       "      <th>2023-02-09</th>\n",
       "      <td>34105.61</td>\n",
       "      <td>34252.57</td>\n",
       "      <td>33607.13</td>\n",
       "      <td>33699.88</td>\n",
       "      <td>352340883.0</td>\n",
       "    </tr>\n",
       "    <tr>\n",
       "      <th>2023-02-08</th>\n",
       "      <td>34132.90</td>\n",
       "      <td>34161.65</td>\n",
       "      <td>33899.79</td>\n",
       "      <td>33949.01</td>\n",
       "      <td>331798754.0</td>\n",
       "    </tr>\n",
       "    <tr>\n",
       "      <th>2023-02-07</th>\n",
       "      <td>33769.78</td>\n",
       "      <td>34240.00</td>\n",
       "      <td>33634.10</td>\n",
       "      <td>34156.69</td>\n",
       "      <td>362844008.0</td>\n",
       "    </tr>\n",
       "    <tr>\n",
       "      <th>2023-02-06</th>\n",
       "      <td>33874.44</td>\n",
       "      <td>33962.84</td>\n",
       "      <td>33683.58</td>\n",
       "      <td>33891.02</td>\n",
       "      <td>297051674.0</td>\n",
       "    </tr>\n",
       "    <tr>\n",
       "      <th>...</th>\n",
       "      <td>...</td>\n",
       "      <td>...</td>\n",
       "      <td>...</td>\n",
       "      <td>...</td>\n",
       "      <td>...</td>\n",
       "    </tr>\n",
       "    <tr>\n",
       "      <th>2018-02-20</th>\n",
       "      <td>25124.91</td>\n",
       "      <td>25179.01</td>\n",
       "      <td>24884.19</td>\n",
       "      <td>24964.75</td>\n",
       "      <td>421529658.0</td>\n",
       "    </tr>\n",
       "    <tr>\n",
       "      <th>2018-02-16</th>\n",
       "      <td>25165.94</td>\n",
       "      <td>25432.42</td>\n",
       "      <td>25149.26</td>\n",
       "      <td>25219.38</td>\n",
       "      <td>406774321.0</td>\n",
       "    </tr>\n",
       "    <tr>\n",
       "      <th>2018-02-15</th>\n",
       "      <td>25047.82</td>\n",
       "      <td>25203.95</td>\n",
       "      <td>24809.42</td>\n",
       "      <td>25200.37</td>\n",
       "      <td>416778260.0</td>\n",
       "    </tr>\n",
       "    <tr>\n",
       "      <th>2018-02-14</th>\n",
       "      <td>24535.82</td>\n",
       "      <td>24925.95</td>\n",
       "      <td>24490.36</td>\n",
       "      <td>24893.49</td>\n",
       "      <td>431152512.0</td>\n",
       "    </tr>\n",
       "    <tr>\n",
       "      <th>2018-02-13</th>\n",
       "      <td>24540.33</td>\n",
       "      <td>24705.72</td>\n",
       "      <td>24421.03</td>\n",
       "      <td>24640.45</td>\n",
       "      <td>374415694.0</td>\n",
       "    </tr>\n",
       "  </tbody>\n",
       "</table>\n",
       "<p>1258 rows × 5 columns</p>\n",
       "</div>"
      ],
      "text/plain": [
       "                Open      High       Low     Close       Volume\n",
       "Date                                                           \n",
       "2023-02-10  33671.54  33897.31  33591.99  33869.27  289863415.0\n",
       "2023-02-09  34105.61  34252.57  33607.13  33699.88  352340883.0\n",
       "2023-02-08  34132.90  34161.65  33899.79  33949.01  331798754.0\n",
       "2023-02-07  33769.78  34240.00  33634.10  34156.69  362844008.0\n",
       "2023-02-06  33874.44  33962.84  33683.58  33891.02  297051674.0\n",
       "...              ...       ...       ...       ...          ...\n",
       "2018-02-20  25124.91  25179.01  24884.19  24964.75  421529658.0\n",
       "2018-02-16  25165.94  25432.42  25149.26  25219.38  406774321.0\n",
       "2018-02-15  25047.82  25203.95  24809.42  25200.37  416778260.0\n",
       "2018-02-14  24535.82  24925.95  24490.36  24893.49  431152512.0\n",
       "2018-02-13  24540.33  24705.72  24421.03  24640.45  374415694.0\n",
       "\n",
       "[1258 rows x 5 columns]"
      ]
     },
     "execution_count": 9,
     "metadata": {},
     "output_type": "execute_result"
    }
   ],
   "source": [
    "import pandas_datareader as pdr\n",
    "dji = pdr.DataReader('^DJI', 'stooq')\n",
    "dji"
   ]
  },
  {
   "cell_type": "code",
   "execution_count": 10,
   "id": "d2b98813",
   "metadata": {},
   "outputs": [
    {
     "data": {
      "image/png": "[encoded data removed]",
      "text/plain": [
       "<Figure size 432x288 with 1 Axes>"
      ]
     },
     "metadata": {
      "needs_background": "light"
     },
     "output_type": "display_data"
    }
   ],
   "source": [
    "import matplotlib.pyplot as plt\n",
    "plt.plot(dji['Close'])\n",
    "plt.show()"
   ]
  },
  {
   "cell_type": "code",
   "execution_count": 22,
   "id": "2782c88a",
   "metadata": {},
   "outputs": [],
   "source": [
    "import torch\n",
    "from torch.utils.data import DataLoader, TensorDataset\n",
    "\n",
    "num = len(dji)                           # 总数据量\n",
    "x = torch.tensor(dji['Close'].to_list())  # 股价列表\n",
    "\n",
    "x = (x - torch.mean(x)) / torch.std(x)  #对数据进行归一化\n",
    "\n",
    "seq_len = 16                               # 预测序列长度\n",
    "batch_size = 16                            # 设置批大小\n",
    "\n",
    "X_feature = torch.zeros((num - seq_len, seq_len))      # 构建特征矩阵，num-seq_len行，seq_len列，初始值均为0\n",
    "Y_label = torch.zeros((num - seq_len, seq_len))        # 构建标签矩阵，形状同特征矩阵\n",
    "for i in range(seq_len):\n",
    "    X_feature[:, i] = x[i: num - seq_len + i]    # 为特征矩阵赋值\n",
    "    Y_label[:, i] = x[i+1: num - seq_len + i + 1]    # 为标签矩阵赋值\n",
    "\n",
    "train_loader = DataLoader(TensorDataset(\n",
    "    X_feature[:num-seq_len].unsqueeze(2), Y_label[:num-seq_len]),\n",
    "    batch_size=batch_size, shuffle=True)  # 构建数据加载器"
   ]
  },
  {
   "cell_type": "code",
   "execution_count": 26,
   "id": "45bf5013",
   "metadata": {},
   "outputs": [],
   "source": [
    "# 定义超参数\n",
    "input_size = 1\n",
    "output_size = 1\n",
    "num_hiddens = 64\n",
    "n_layers = 2\n",
    "lr = 0.001\n",
    "\n",
    "\n",
    "# 建立模型\n",
    "model = DRNN(input_size, output_size, num_hiddens, n_layers)\n",
    "criterion = nn.MSELoss(reduction='none')\n",
    "trainer = torch.optim.Adam(model.parameters(), lr)"
   ]
  },
  {
   "cell_type": "code",
   "execution_count": 27,
   "id": "e78bd092",
   "metadata": {},
   "outputs": [
    {
     "name": "stderr",
     "output_type": "stream",
     "text": [
      "  5%|▌         | 1/20 [00:00<00:08,  2.30it/s]"
     ]
    },
    {
     "name": "stdout",
     "output_type": "stream",
     "text": [
      "Epoch 1: Validation loss = 0.0180\n"
     ]
    },
    {
     "name": "stderr",
     "output_type": "stream",
     "text": [
      "\r",
      " 10%|█         | 2/20 [00:00<00:07,  2.29it/s]"
     ]
    },
    {
     "name": "stdout",
     "output_type": "stream",
     "text": [
      "Epoch 2: Validation loss = 0.0083\n"
     ]
    },
    {
     "name": "stderr",
     "output_type": "stream",
     "text": [
      "\r",
      " 15%|█▌        | 3/20 [00:01<00:07,  2.29it/s]"
     ]
    },
    {
     "name": "stdout",
     "output_type": "stream",
     "text": [
      "Epoch 3: Validation loss = 0.0081\n"
     ]
    },
    {
     "name": "stderr",
     "output_type": "stream",
     "text": [
      "\r",
      " 20%|██        | 4/20 [00:01<00:06,  2.29it/s]"
     ]
    },
    {
     "name": "stdout",
     "output_type": "stream",
     "text": [
      "Epoch 4: Validation loss = 0.0079\n"
     ]
    },
    {
     "name": "stderr",
     "output_type": "stream",
     "text": [
      "\r",
      " 25%|██▌       | 5/20 [00:02<00:06,  2.29it/s]"
     ]
    },
    {
     "name": "stdout",
     "output_type": "stream",
     "text": [
      "Epoch 5: Validation loss = 0.0078\n"
     ]
    },
    {
     "name": "stderr",
     "output_type": "stream",
     "text": [
      "\r",
      " 30%|███       | 6/20 [00:02<00:06,  2.28it/s]"
     ]
    },
    {
     "name": "stdout",
     "output_type": "stream",
     "text": [
      "Epoch 6: Validation loss = 0.0077\n"
     ]
    },
    {
     "name": "stderr",
     "output_type": "stream",
     "text": [
      "\r",
      " 35%|███▌      | 7/20 [00:03<00:05,  2.27it/s]"
     ]
    },
    {
     "name": "stdout",
     "output_type": "stream",
     "text": [
      "Epoch 7: Validation loss = 0.0081\n"
     ]
    },
    {
     "name": "stderr",
     "output_type": "stream",
     "text": [
      "\r",
      " 40%|████      | 8/20 [00:03<00:05,  2.28it/s]"
     ]
    },
    {
     "name": "stdout",
     "output_type": "stream",
     "text": [
      "Epoch 8: Validation loss = 0.0080\n"
     ]
    },
    {
     "name": "stderr",
     "output_type": "stream",
     "text": [
      "\r",
      " 45%|████▌     | 9/20 [00:03<00:04,  2.28it/s]"
     ]
    },
    {
     "name": "stdout",
     "output_type": "stream",
     "text": [
      "Epoch 9: Validation loss = 0.0078\n"
     ]
    },
    {
     "name": "stderr",
     "output_type": "stream",
     "text": [
      "\r",
      " 50%|█████     | 10/20 [00:04<00:04,  2.25it/s]"
     ]
    },
    {
     "name": "stdout",
     "output_type": "stream",
     "text": [
      "Epoch 10: Validation loss = 0.0080\n"
     ]
    },
    {
     "name": "stderr",
     "output_type": "stream",
     "text": [
      "\r",
      " 55%|█████▌    | 11/20 [00:04<00:03,  2.25it/s]"
     ]
    },
    {
     "name": "stdout",
     "output_type": "stream",
     "text": [
      "Epoch 11: Validation loss = 0.0079\n"
     ]
    },
    {
     "name": "stderr",
     "output_type": "stream",
     "text": [
      "\r",
      " 60%|██████    | 12/20 [00:05<00:03,  2.25it/s]"
     ]
    },
    {
     "name": "stdout",
     "output_type": "stream",
     "text": [
      "Epoch 12: Validation loss = 0.0079\n"
     ]
    },
    {
     "name": "stderr",
     "output_type": "stream",
     "text": [
      "\r",
      " 65%|██████▌   | 13/20 [00:05<00:03,  2.27it/s]"
     ]
    },
    {
     "name": "stdout",
     "output_type": "stream",
     "text": [
      "Epoch 13: Validation loss = 0.0077\n"
     ]
    },
    {
     "name": "stderr",
     "output_type": "stream",
     "text": [
      "\r",
      " 70%|███████   | 14/20 [00:06<00:02,  2.25it/s]"
     ]
    },
    {
     "name": "stdout",
     "output_type": "stream",
     "text": [
      "Epoch 14: Validation loss = 0.0082\n"
     ]
    },
    {
     "name": "stderr",
     "output_type": "stream",
     "text": [
      "\r",
      " 75%|███████▌  | 15/20 [00:06<00:02,  2.26it/s]"
     ]
    },
    {
     "name": "stdout",
     "output_type": "stream",
     "text": [
      "Epoch 15: Validation loss = 0.0080\n"
     ]
    },
    {
     "name": "stderr",
     "output_type": "stream",
     "text": [
      "\r",
      " 80%|████████  | 16/20 [00:07<00:01,  2.25it/s]"
     ]
    },
    {
     "name": "stdout",
     "output_type": "stream",
     "text": [
      "Epoch 16: Validation loss = 0.0077\n"
     ]
    },
    {
     "name": "stderr",
     "output_type": "stream",
     "text": [
      "\r",
      " 85%|████████▌ | 17/20 [00:07<00:01,  2.26it/s]"
     ]
    },
    {
     "name": "stdout",
     "output_type": "stream",
     "text": [
      "Epoch 17: Validation loss = 0.0078\n"
     ]
    },
    {
     "name": "stderr",
     "output_type": "stream",
     "text": [
      "\r",
      " 90%|█████████ | 18/20 [00:07<00:00,  2.28it/s]"
     ]
    },
    {
     "name": "stdout",
     "output_type": "stream",
     "text": [
      "Epoch 18: Validation loss = 0.0076\n"
     ]
    },
    {
     "name": "stderr",
     "output_type": "stream",
     "text": [
      "\r",
      " 95%|█████████▌| 19/20 [00:08<00:00,  2.28it/s]"
     ]
    },
    {
     "name": "stdout",
     "output_type": "stream",
     "text": [
      "Epoch 19: Validation loss = 0.0076\n"
     ]
    },
    {
     "name": "stderr",
     "output_type": "stream",
     "text": [
      "100%|██████████| 20/20 [00:08<00:00,  2.27it/s]"
     ]
    },
    {
     "name": "stdout",
     "output_type": "stream",
     "text": [
      "Epoch 20: Validation loss = 0.0076\n"
     ]
    },
    {
     "name": "stderr",
     "output_type": "stream",
     "text": [
      "\n"
     ]
    },
    {
     "data": {
      "image/png": "[encoded data removed]",
      "text/plain": [
       "<Figure size 432x288 with 1 Axes>"
      ]
     },
     "metadata": {
      "needs_background": "light"
     },
     "output_type": "display_data"
    }
   ],
   "source": [
    "# 训练轮次\n",
    "num_epochs = 20\n",
    "rnn_loss_history = []\n",
    "\n",
    "for epoch in tqdm(range(num_epochs)):\n",
    "    # 批量训练\n",
    "    for X, Y in train_loader:\n",
    "        trainer.zero_grad()\n",
    "        y_pred = model(X)\n",
    "        loss = criterion(y_pred.squeeze(), Y.squeeze())\n",
    "        loss.sum().backward()\n",
    "        trainer.step()\n",
    "    # 输出损失\n",
    "    with torch.no_grad():\n",
    "        total_loss = 0\n",
    "        for X, Y in train_loader:\n",
    "            y_pred = model(X)\n",
    "            loss = criterion(y_pred.squeeze(), Y.squeeze())\n",
    "            total_loss += loss.sum()/loss.numel()\n",
    "        avg_loss = total_loss / len(train_loader)\n",
    "        print(f'Epoch {epoch+1}: Validation loss = {avg_loss:.4f}')\n",
    "        rnn_loss_history.append(avg_loss)\n",
    "    \n",
    "# 绘制损失曲线图\n",
    "import matplotlib.pyplot as plt\n",
    "# plt.plot(loss_history, label='loss')\n",
    "plt.plot(rnn_loss_history, label='RNN_loss')\n",
    "plt.legend()\n",
    "plt.show()"
   ]
  },
  {
   "cell_type": "code",
   "execution_count": 30,
   "id": "14c3c4b8",
   "metadata": {},
   "outputs": [
    {
     "data": {
      "image/png": "[encoded data removed]",
      "text/plain": [
       "<Figure size 432x288 with 1 Axes>"
      ]
     },
     "metadata": {
      "needs_background": "light"
     },
     "output_type": "display_data"
    }
   ],
   "source": [
    "rnn_preds = model(X_feature.unsqueeze(2))\n",
    "rnn_preds.squeeze()\n",
    "time = torch.arange(1, num+1, dtype= torch.float32)  # 时间轴\n",
    "\n",
    "plt.plot(time[:num-seq_len], x[seq_len:num], label='dji')\n",
    "# plt.plot(time[:num-seq_len], preds.detach().numpy(), label='preds')\n",
    "plt.plot(time[:num-seq_len], rnn_preds[:,seq_len-1].detach(), label='RNN_preds')\n",
    "plt.legend()\n",
    "plt.show()"
   ]
  },
  {
   "cell_type": "markdown",
   "id": "5a0d2239",
   "metadata": {},
   "source": [
    "## 3 效果对比 "
   ]
  },
  {
   "cell_type": "code",
   "execution_count": 32,
   "id": "2585d55c",
   "metadata": {},
   "outputs": [
    {
     "name": "stderr",
     "output_type": "stream",
     "text": [
      "100%|██████████| 20/20 [00:59<00:00,  2.95s/it]\n"
     ]
    }
   ],
   "source": [
    "# 定义超参数\n",
    "input_size = 1\n",
    "output_size = 1\n",
    "num_hiddens = 64\n",
    "n_layers = 2\n",
    "lr = 0.001\n",
    "\n",
    "\n",
    "# 建立模型\n",
    "model_name = ['DRNN', 'BRNN', 'LSTM', 'GRU']\n",
    "drnn = DRNN(input_size, output_size, num_hiddens, n_layers)\n",
    "brnn = BRNN(input_size, output_size, num_hiddens, n_layers)\n",
    "lstm = LSTM(input_size, output_size, num_hiddens, n_layers)\n",
    "gru = GRU(input_size, output_size, num_hiddens, n_layers)\n",
    "models = [drnn, brnn, lstm, gru]\n",
    "\n",
    "opts = [torch.optim.Adam(drnn.parameters(), lr), \n",
    "            torch.optim.Adam(brnn.parameters(), lr), \n",
    "            torch.optim.Adam(lstm.parameters(), lr), \n",
    "            torch.optim.Adam(gru.parameters(), lr)]\n",
    "criterion = nn.MSELoss(reduction='none')\n",
    "\n",
    "num_epochs = 20\n",
    "rnn_loss_history = []\n",
    "lr = 0.1\n",
    "for epoch in tqdm(range(num_epochs)):\n",
    "    # 批量训练\n",
    "    for X, Y in train_loader:\n",
    "        for index, model, optimizer in zip(range(len(models)), models, opts):\n",
    "            y_pred = model(X)\n",
    "            loss = criterion(y_pred.squeeze(), Y.squeeze())\n",
    "            trainer.zero_grad()\n",
    "            loss.sum().backward()\n",
    "            trainer.step()"
   ]
  },
  {
   "cell_type": "code",
   "execution_count": 33,
   "id": "417e5b47",
   "metadata": {},
   "outputs": [
    {
     "name": "stdout",
     "output_type": "stream",
     "text": [
      "DRNN bias : tensor(125995.9453)\n",
      "BRNN bias : tensor(-24902.6758)\n",
      "LSTM bias : tensor(130150.6797)\n",
      "GRU bias : tensor(102981.3438)\n"
     ]
    }
   ],
   "source": [
    "for i in range(4):\n",
    "    rnn_preds = models[i](X_feature.unsqueeze(2))\n",
    "    bias = torch.sum(x[seq_len:num] - rnn_preds[:,seq_len-1].detach().numpy())\n",
    "    print ('{} bias : {}'.format(model_name[i],str(bias)))"
   ]
  },
  {
   "cell_type": "code",
   "execution_count": null,
   "id": "7b9ea7c8",
   "metadata": {},
   "outputs": [],
   "source": []
  }
 ],
 "metadata": {
  "kernelspec": {
   "display_name": "Python 3 (ipykernel)",
   "language": "python",
   "name": "python3"
  },
  "language_info": {
   "codemirror_mode": {
    "name": "ipython",
    "version": 3
   },
   "file_extension": ".py",
   "mimetype": "text/x-python",
   "name": "python",
   "nbconvert_exporter": "python",
   "pygments_lexer": "ipython3",
   "version": "3.8.10"
  }
 },
 "nbformat": 4,
 "nbformat_minor": 5
}
