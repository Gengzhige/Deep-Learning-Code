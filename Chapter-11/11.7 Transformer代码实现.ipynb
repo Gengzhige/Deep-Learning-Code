{
 "cells": [
  {
   "cell_type": "markdown",
   "id": "fa816164",
   "metadata": {},
   "source": [
    "## 数据准备"
   ]
  },
  {
   "cell_type": "markdown",
   "id": "48a4d118",
   "metadata": {},
   "source": [
    "### 代码包引入"
   ]
  },
  {
   "cell_type": "code",
   "execution_count": 1,
   "id": "783839ba",
   "metadata": {},
   "outputs": [],
   "source": [
    "import torch\n",
    "import torch.nn as nn\n",
    "import torch.utils.data as Data\n",
    "import numpy as np\n",
    "from torch import optim\n",
    "import random\n",
    "from tqdm import *\n",
    "import matplotlib.pyplot as plt"
   ]
  },
  {
   "cell_type": "markdown",
   "id": "ddfa59fa",
   "metadata": {},
   "source": [
    "### 数据集生成"
   ]
  },
  {
   "cell_type": "code",
   "execution_count": 2,
   "id": "5a0ee89f",
   "metadata": {},
   "outputs": [
    {
     "data": {
      "text/plain": [
       "([['kju:', 'kei', 'em', 'i:', 'vi:', 'pi:'],\n",
       "  ['bi:', 'kju:', 'eit∫', 'eks', 'ef', 'di:']],\n",
       " [['q', 'k', 'm', 'e', 'v', 'p'], ['b', 'q', 'h', 'x', 'f', 'd']])"
      ]
     },
     "execution_count": 2,
     "metadata": {},
     "output_type": "execute_result"
    }
   ],
   "source": [
    "# 数据集生成\n",
    "soundmark = ['ei',  'bi:',  'si:',  'di:',  'i:',  'ef',  'dʒi:',  'eit∫',  'ai', 'dʒei', 'kei', 'el', 'em', 'en', 'əu', 'pi:', 'kju:',\n",
    "        'ɑ:', 'es', 'ti:', 'ju:', 'vi:', 'd∧blju:', 'eks', 'wai', 'zi:']\n",
    "\n",
    "alphabet = ['a','b','c','d','e','f','g','h','i','j','k','l','m','n','o','p','q',\n",
    "         'r','s','t','u','v','w','x','y','z']\n",
    "\n",
    "t = 1000 #总条数\n",
    "r = 0.9   #扰动项\n",
    "seq_len = 6\n",
    "src_tokens, tgt_tokens = [],[] #原始序列、目标序列列表\n",
    "\n",
    "for i in range(t):\n",
    "    src, tgt = [],[]\n",
    "    for j in range(seq_len):\n",
    "        ind = random.randint(0,25)\n",
    "        src.append(soundmark[ind])\n",
    "        if random.random() < r:\n",
    "            tgt.append(alphabet[ind])\n",
    "        else:\n",
    "            tgt.append(alphabet[random.randint(0,25)])\n",
    "    src_tokens.append(src)\n",
    "    tgt_tokens.append(tgt)\n",
    "src_tokens[:2], tgt_tokens[:2]"
   ]
  },
  {
   "cell_type": "code",
   "execution_count": 3,
   "id": "f99844b6",
   "metadata": {},
   "outputs": [],
   "source": [
    "from collections import Counter  # 计数类\n",
    "\n",
    "flatten = lambda l: [item for sublist in l for item in sublist]  # 展平数组\n",
    "# 构建词表\n",
    "class Vocab:\n",
    "    def __init__(self, tokens):\n",
    "        self.tokens = tokens  # 传入的tokens是二维列表\n",
    "        self.token2index = {'<pad>': 0, '<bos>': 1, '<eos>': 2, '<unk>': 3}  # 先存好特殊词元\n",
    "        # 将词元按词频排序后生成列表\n",
    "        self.token2index.update({\n",
    "            token: index + 4\n",
    "            for index, (token, freq) in enumerate(\n",
    "                sorted(Counter(flatten(self.tokens)).items(), key=lambda x: x[1], reverse=True))\n",
    "        })\n",
    "        # 构建id到词元字典\n",
    "        self.index2token = {index: token for token, index in self.token2index.items()}\n",
    "\n",
    "    def __getitem__(self, query):\n",
    "        # 单一索引\n",
    "        if isinstance(query, (str, int)):\n",
    "            if isinstance(query, str):\n",
    "                return self.token2index.get(query, 0)\n",
    "            elif isinstance(query, (int)):\n",
    "                return self.index2token.get(query, '<unk>')\n",
    "        # 数组索引\n",
    "        elif isinstance(query, (list, tuple)):\n",
    "            return [self.__getitem__(item) for item in query]\n",
    "\n",
    "    def __len__(self):\n",
    "        return len(self.index2token)"
   ]
  },
  {
   "cell_type": "markdown",
   "id": "01ad7798",
   "metadata": {},
   "source": [
    "### 数据集构造"
   ]
  },
  {
   "cell_type": "code",
   "execution_count": 4,
   "id": "246e630e",
   "metadata": {},
   "outputs": [],
   "source": [
    "from torch.utils.data import DataLoader, TensorDataset\n",
    "\n",
    "#实例化source和target词表\n",
    "src_vocab, tgt_vocab = Vocab(src_tokens), Vocab(tgt_tokens)\n",
    "src_vocab_size = len(src_vocab)  # 源语言词表大小\n",
    "tgt_vocab_size = len(tgt_vocab)  # 目标语言词表大小\n",
    "\n",
    "#增加开始标识<bos>和结尾标识<eos>\n",
    "encoder_input = torch.tensor([src_vocab[line + ['<pad>']] for line in src_tokens])\n",
    "decoder_input = torch.tensor([src_vocab[['<bos>'] + line] for line in src_tokens])\n",
    "decoder_output = torch.tensor([tgt_vocab[line + ['<eos>']] for line in tgt_tokens])\n",
    "\n",
    "# 训练集和测试集比例8比2，batch_size = 16\n",
    "train_size = int(len(encoder_input) * 0.8)\n",
    "test_size = len(encoder_input) - train_size\n",
    "batch_size = 16\n",
    "\n",
    "# 自定义数据集函数\n",
    "class MyDataSet(Data.Dataset):\n",
    "    def __init__(self, enc_inputs, dec_inputs, dec_outputs):\n",
    "        super(MyDataSet, self).__init__()\n",
    "        self.enc_inputs = enc_inputs\n",
    "        self.dec_inputs = dec_inputs\n",
    "        self.dec_outputs = dec_outputs\n",
    "\n",
    "    def __len__(self):\n",
    "        return self.enc_inputs.shape[0]\n",
    "\n",
    "    def __getitem__(self, idx):\n",
    "        return self.enc_inputs[idx], self.dec_inputs[idx], self.dec_outputs[idx]\n",
    "\n",
    "train_loader = DataLoader(MyDataSet(encoder_input[:train_size], decoder_input[:train_size], decoder_output[:train_size]), batch_size=batch_size)\n",
    "test_loader = DataLoader(MyDataSet(encoder_input[-test_size:], decoder_input[-test_size:], decoder_output[-test_size:]), batch_size=1)"
   ]
  },
  {
   "cell_type": "markdown",
   "id": "040214ea",
   "metadata": {},
   "source": [
    "## 模型构建"
   ]
  },
  {
   "cell_type": "markdown",
   "id": "54dddf8b",
   "metadata": {},
   "source": [
    "### 位置编码"
   ]
  },
  {
   "cell_type": "code",
   "execution_count": 5,
   "id": "8ad8a03f",
   "metadata": {},
   "outputs": [],
   "source": [
    "def get_sinusoid_encoding_table(n_position, d_model):\n",
    "    def cal_angle(position, hid_idx):\n",
    "        return position / np.power(10000, 2 * (hid_idx // 2) / d_model)\n",
    "    def get_posi_angle_vec(position):\n",
    "        return [cal_angle(position, hid_j) for hid_j in range(d_model)]\n",
    "    sinusoid_table = np.array([get_posi_angle_vec(pos_i) for pos_i in range(n_position)])\n",
    "    sinusoid_table[:, 0::2] = np.sin(sinusoid_table[:, 0::2]) # 偶数位用正弦函数\n",
    "    sinusoid_table[:, 1::2] = np.cos(sinusoid_table[:, 1::2]) # 奇数位用余弦函数\n",
    "    return torch.FloatTensor(sinusoid_table)"
   ]
  },
  {
   "cell_type": "code",
   "execution_count": 6,
   "id": "73ed603c",
   "metadata": {
    "scrolled": true
   },
   "outputs": [
    {
     "name": "stdout",
     "output_type": "stream",
     "text": [
      "tensor([[ 0.0000e+00,  1.0000e+00,  0.0000e+00,  ...,  1.0000e+00,\n",
      "          0.0000e+00,  1.0000e+00],\n",
      "        [ 8.4147e-01,  5.4030e-01,  8.2186e-01,  ...,  1.0000e+00,\n",
      "          1.0366e-04,  1.0000e+00],\n",
      "        [ 9.0930e-01, -4.1615e-01,  9.3641e-01,  ...,  1.0000e+00,\n",
      "          2.0733e-04,  1.0000e+00],\n",
      "        ...,\n",
      "        [ 9.5638e-01, -2.9214e-01,  7.9142e-01,  ...,  1.0000e+00,\n",
      "          2.7989e-03,  1.0000e+00],\n",
      "        [ 2.7091e-01, -9.6261e-01,  9.5325e-01,  ...,  1.0000e+00,\n",
      "          2.9026e-03,  1.0000e+00],\n",
      "        [-6.6363e-01, -7.4806e-01,  2.9471e-01,  ...,  1.0000e+00,\n",
      "          3.0062e-03,  1.0000e+00]])\n"
     ]
    }
   ],
   "source": [
    "print(get_sinusoid_encoding_table(30, 512))"
   ]
  },
  {
   "cell_type": "markdown",
   "id": "77f721b9",
   "metadata": {},
   "source": [
    "### 掩码操作"
   ]
  },
  {
   "cell_type": "code",
   "execution_count": 7,
   "id": "16f45380",
   "metadata": {},
   "outputs": [],
   "source": [
    "# mask掉没有意义的占位符\n",
    "def get_attn_pad_mask(seq_q, seq_k):                       # seq_q: [batch_size, seq_len] ,seq_k: [batch_size, seq_len]\n",
    "    batch_size, len_q = seq_q.size()\n",
    "    batch_size, len_k = seq_k.size()\n",
    "    pad_attn_mask = seq_k.data.eq(0).unsqueeze(1)          # 判断 输入那些含有P(=0),用1标记 ,[batch_size, 1, len_k]\n",
    "    return pad_attn_mask.expand(batch_size, len_q, len_k)\n",
    "\n",
    "# mask掉未来信息\n",
    "def get_attn_subsequence_mask(seq):                               # seq: [batch_size, tgt_len]\n",
    "    attn_shape = [seq.size(0), seq.size(1), seq.size(1)]\n",
    "    subsequence_mask = np.triu(np.ones(attn_shape), k=1)          # 生成上三角矩阵,[batch_size, tgt_len, tgt_len]\n",
    "    subsequence_mask = torch.from_numpy(subsequence_mask).byte()  #  [batch_size, tgt_len, tgt_len]\n",
    "    return subsequence_mask "
   ]
  },
  {
   "cell_type": "markdown",
   "id": "1da18369",
   "metadata": {},
   "source": [
    "### 注意力计算函数"
   ]
  },
  {
   "cell_type": "code",
   "execution_count": 8,
   "id": "0e7fb2ee",
   "metadata": {},
   "outputs": [],
   "source": [
    "# 缩放点积注意力计算\n",
    "class ScaledDotProductAttention(nn.Module):\n",
    "    def __init__(self):\n",
    "        super(ScaledDotProductAttention, self).__init__()\n",
    "    def forward(self, Q, K, V, attn_mask):\n",
    "        '''\n",
    "        Q: [batch_size, n_heads, len_q, d_k]\n",
    "        K: [batch_size, n_heads, len_k, d_k]\n",
    "        V: [batch_size, n_heads, len_v(=len_k), d_v]\n",
    "        attn_mask: [batch_size, n_heads, seq_len, seq_len]\n",
    "        '''\n",
    "        scores = torch.matmul(Q, K.transpose(-1, -2)) / np.sqrt(d_k) # scores : [batch_size, n_heads, len_q, len_k]\n",
    "        scores.masked_fill_(attn_mask, -1e9) # Fills elements of self tensor with value where mask is True.\n",
    "        attn = nn.Softmax(dim=-1)(scores)\n",
    "        context = torch.matmul(attn, V) # [batch_size, n_heads, len_q, d_v]\n",
    "        return context, attn\n",
    "\n",
    "#多头注意力计算\n",
    "class MultiHeadAttention(nn.Module):\n",
    "    def __init__(self):\n",
    "        super(MultiHeadAttention, self).__init__()\n",
    "        self.W_Q = nn.Linear(d_model, d_k * n_heads, bias=False)\n",
    "        self.W_K = nn.Linear(d_model, d_k * n_heads, bias=False)\n",
    "        self.W_V = nn.Linear(d_model, d_v * n_heads, bias=False)\n",
    "        self.fc = nn.Linear(n_heads * d_v, d_model, bias=False)\n",
    "    def forward(self, input_Q, input_K, input_V, attn_mask):\n",
    "        '''\n",
    "        input_Q: [batch_size, len_q, d_model]\n",
    "        input_K: [batch_size, len_k, d_model]\n",
    "        input_V: [batch_size, len_v(=len_k), d_model]\n",
    "        attn_mask: [batch_size, seq_len, seq_len]\n",
    "        '''\n",
    "        residual, batch_size = input_Q, input_Q.size(0)\n",
    "        # (B, S, D) -proj-> (B, S, D_new) -split-> (B, S, H, W) -trans-> (B, H, S, W)\n",
    "        Q = self.W_Q(input_Q).view(batch_size, -1, n_heads, d_k).transpose(1,2) # Q: [batch_size, n_heads, len_q, d_k]\n",
    "        K = self.W_K(input_K).view(batch_size, -1, n_heads, d_k).transpose(1,2) # K: [batch_size, n_heads, len_k, d_k]\n",
    "        V = self.W_V(input_V).view(batch_size, -1, n_heads, d_v).transpose(1,2) # V: [batch_size, n_heads, len_v(=len_k), d_v]\n",
    "        attn_mask = attn_mask.unsqueeze(1).repeat(1, n_heads, 1, 1) # attn_mask : [batch_size, n_heads, seq_len, seq_len]\n",
    "        # context: [batch_size, n_heads, len_q, d_v], attn: [batch_size, n_heads, len_q, len_k]\n",
    "        context, attn = ScaledDotProductAttention()(Q, K, V, attn_mask)\n",
    "        context = context.transpose(1, 2).reshape(batch_size, -1, n_heads * d_v) # context: [batch_size, len_q, n_heads * d_v]\n",
    "        output = self.fc(context) # [batch_size, len_q, d_model]\n",
    "        return nn.LayerNorm(d_model)(output + residual), attn"
   ]
  },
  {
   "cell_type": "markdown",
   "id": "852dc93f",
   "metadata": {},
   "source": [
    "### 构建前馈网络"
   ]
  },
  {
   "cell_type": "code",
   "execution_count": 9,
   "id": "b68eb3bc",
   "metadata": {},
   "outputs": [],
   "source": [
    "class PoswiseFeedForwardNet(nn.Module):\n",
    "    def __init__(self):\n",
    "        super(PoswiseFeedForwardNet, self).__init__()\n",
    "        self.fc = nn.Sequential(\n",
    "            nn.Linear(d_model, d_ff, bias=False),\n",
    "            nn.ReLU(),\n",
    "            nn.Linear(d_ff, d_model, bias=False))\n",
    "        \n",
    "    def forward(self, inputs):                             # inputs: [batch_size, seq_len, d_model]\n",
    "        residual = inputs\n",
    "        output = self.fc(inputs)\n",
    "        return nn.LayerNorm(d_model)(output + residual)   # 残差 + LayerNorm"
   ]
  },
  {
   "cell_type": "markdown",
   "id": "44b3ff96",
   "metadata": {},
   "source": [
    "### 编码器模块"
   ]
  },
  {
   "cell_type": "code",
   "execution_count": 10,
   "id": "eae1e01c",
   "metadata": {},
   "outputs": [],
   "source": [
    "# 编码器层\n",
    "class EncoderLayer(nn.Module):\n",
    "    def __init__(self):\n",
    "        super(EncoderLayer, self).__init__()\n",
    "        self.enc_self_attn = MultiHeadAttention()  # 多头注意力\n",
    "        self.pos_ffn = PoswiseFeedForwardNet()  # 前馈网络\n",
    "    def forward(self, enc_inputs, enc_self_attn_mask):\n",
    "        '''\n",
    "        enc_inputs: [batch_size, src_len, d_model]\n",
    "        enc_self_attn_mask: [batch_size, src_len, src_len]\n",
    "        '''\n",
    "        # enc_outputs: [batch_size, src_len, d_model], attn: [batch_size, n_heads, src_len, src_len]\n",
    "        enc_outputs, attn = self.enc_self_attn(enc_inputs, enc_inputs, enc_inputs, enc_self_attn_mask) # enc_inputs to same Q,K,V\n",
    "        enc_outputs = self.pos_ffn(enc_outputs) # enc_outputs: [batch_size, src_len, d_model]\n",
    "        return enc_outputs, attn\n",
    "\n",
    "# 编码器模块\n",
    "class Encoder(nn.Module):\n",
    "    def __init__(self):\n",
    "        super(Encoder, self).__init__()\n",
    "        self.src_emb = nn.Embedding(src_vocab_size, d_model)\n",
    "        self.pos_emb = nn.Embedding.from_pretrained(get_sinusoid_encoding_table(src_vocab_size, d_model), freeze=True)\n",
    "        self.layers = nn.ModuleList([EncoderLayer() for _ in range(n_layers)])\n",
    "    def forward(self, enc_inputs):\n",
    "        '''\n",
    "        enc_inputs: [batch_size, src_len]\n",
    "        '''\n",
    "        word_emb = self.src_emb(enc_inputs) # [batch_size, src_len, d_model]\n",
    "        pos_emb = self.pos_emb(enc_inputs) # [batch_size, src_len, d_model]\n",
    "        enc_outputs = word_emb + pos_emb\n",
    "        enc_self_attn_mask = get_attn_pad_mask(enc_inputs, enc_inputs) # [batch_size, src_len, src_len]\n",
    "        enc_self_attns = []\n",
    "        for layer in self.layers:\n",
    "            # enc_outputs: [batch_size, src_len, d_model], enc_self_attn: [batch_size, n_heads, src_len, src_len]\n",
    "            enc_outputs, enc_self_attn = layer(enc_outputs, enc_self_attn_mask)\n",
    "            enc_self_attns.append(enc_self_attn)\n",
    "        return enc_outputs, enc_self_attns"
   ]
  },
  {
   "cell_type": "markdown",
   "id": "a62a13bc",
   "metadata": {},
   "source": [
    "### 解码器模块"
   ]
  },
  {
   "cell_type": "code",
   "execution_count": 11,
   "id": "416d9b38",
   "metadata": {},
   "outputs": [],
   "source": [
    "# 解码器层\n",
    "class DecoderLayer(nn.Module):\n",
    "    def __init__(self):\n",
    "        super(DecoderLayer, self).__init__()\n",
    "        self.dec_self_attn = MultiHeadAttention()\n",
    "        self.dec_enc_attn = MultiHeadAttention()\n",
    "        self.pos_ffn = PoswiseFeedForwardNet()\n",
    "    def forward(self, dec_inputs, enc_outputs, dec_self_attn_mask, dec_enc_attn_mask):\n",
    "        '''\n",
    "        dec_inputs: [batch_size, tgt_len, d_model]\n",
    "        enc_outputs: [batch_size, src_len, d_model]\n",
    "        dec_self_attn_mask: [batch_size, tgt_len, tgt_len]\n",
    "        dec_enc_attn_mask: [batch_size, tgt_len, src_len]\n",
    "        '''\n",
    "        # dec_outputs: [batch_size, tgt_len, d_model], dec_self_attn: [batch_size, n_heads, tgt_len, tgt_len]\n",
    "        dec_outputs, dec_self_attn = self.dec_self_attn(dec_inputs, dec_inputs, dec_inputs, dec_self_attn_mask)\n",
    "        # dec_outputs: [batch_size, tgt_len, d_model], dec_enc_attn: [batch_size, h_heads, tgt_len, src_len]\n",
    "        dec_outputs, dec_enc_attn = self.dec_enc_attn(dec_outputs, enc_outputs, enc_outputs, dec_enc_attn_mask)\n",
    "        dec_outputs = self.pos_ffn(dec_outputs) # [batch_size, tgt_len, d_model]\n",
    "        return dec_outputs, dec_self_attn, dec_enc_attn\n",
    "\n",
    "# 解码器模块\n",
    "class Decoder(nn.Module):\n",
    "    def __init__(self):\n",
    "        super(Decoder, self).__init__()\n",
    "        self.tgt_emb = nn.Embedding(tgt_vocab_size, d_model)\n",
    "        self.pos_emb = nn.Embedding.from_pretrained(get_sinusoid_encoding_table(tgt_vocab_size, d_model),freeze=True)\n",
    "        self.layers = nn.ModuleList([DecoderLayer() for _ in range(n_layers)])\n",
    "    def forward(self, dec_inputs, enc_inputs, enc_outputs):\n",
    "        '''\n",
    "        dec_inputs: [batch_size, tgt_len]\n",
    "        enc_intpus: [batch_size, src_len]\n",
    "        enc_outputs: [batsh_size, src_len, d_model]\n",
    "        '''\n",
    "        word_emb = self.tgt_emb(dec_inputs) # [batch_size, tgt_len, d_model]\n",
    "        pos_emb = self.pos_emb(dec_inputs) # [batch_size, tgt_len, d_model]\n",
    "        dec_outputs = word_emb + pos_emb\n",
    "        dec_self_attn_pad_mask = get_attn_pad_mask(dec_inputs, dec_inputs) # [batch_size, tgt_len, tgt_len]\n",
    "        dec_self_attn_subsequent_mask = get_attn_subsequence_mask(dec_inputs) # [batch_size, tgt_len]\n",
    "        dec_self_attn_mask = torch.gt((dec_self_attn_pad_mask + dec_self_attn_subsequent_mask), 0) # [batch_size, tgt_len, tgt_len]\n",
    "        dec_enc_attn_mask = get_attn_pad_mask(dec_inputs, enc_inputs) # [batc_size, tgt_len, src_len]\n",
    "        dec_self_attns, dec_enc_attns = [], []\n",
    "        for layer in self.layers:\n",
    "            # dec_outputs: [batch_size, tgt_len, d_model], dec_self_attn: [batch_size, n_heads, tgt_len, tgt_len], dec_enc_attn: [batch_size, h_heads, tgt_len,src_len]\n",
    "            dec_outputs, dec_self_attn, dec_enc_attn = layer(dec_outputs, enc_outputs, dec_self_attn_mask, dec_enc_attn_mask)\n",
    "            dec_self_attns.append(dec_self_attn)\n",
    "            dec_enc_attns.append(dec_enc_attn)\n",
    "        return dec_outputs, dec_self_attns, dec_enc_attns"
   ]
  },
  {
   "cell_type": "markdown",
   "id": "fe516394",
   "metadata": {},
   "source": [
    "### Transformer模型"
   ]
  },
  {
   "cell_type": "code",
   "execution_count": 12,
   "id": "5461ca2c",
   "metadata": {},
   "outputs": [],
   "source": [
    "class Transformer(nn.Module):\n",
    "    def __init__(self):\n",
    "        super(Transformer, self).__init__()\n",
    "        self.encoder = Encoder()\n",
    "        self.decoder = Decoder()\n",
    "        self.projection = nn.Linear(d_model, tgt_vocab_size, bias=False)\n",
    "    def forward(self, enc_inputs, dec_inputs):\n",
    "        '''\n",
    "        enc_inputs: [batch_size, src_len]\n",
    "        dec_inputs: [batch_size, tgt_len]\n",
    "        '''\n",
    "        # tensor to store decoder outputs\n",
    "        # outputs = torch.zeros(batch_size, tgt_len, tgt_vocab_size).to(self.device)\n",
    "        # enc_outputs: [batch_size, src_len, d_model], enc_self_attns: [n_layers, batch_size, n_heads, src_len, src_len]\n",
    "        enc_outputs, enc_self_attns = self.encoder(enc_inputs)\n",
    "        # dec_outpus: [batch_size, tgt_len, d_model], dec_self_attns: [n_layers, batch_size, n_heads, tgt_len, tgt_len], dec_enc_attn: [n_layers, batch_size, tgt_len, src_len]\n",
    "        dec_outputs, dec_self_attns, dec_enc_attns = self.decoder(dec_inputs, enc_inputs, enc_outputs)\n",
    "        dec_logits = self.projection(dec_outputs) # dec_logits: [batch_size, tgt_len, tgt_vocab_size]\n",
    "        return dec_logits.view(-1, dec_logits.size(-1)), enc_self_attns, dec_self_attns, dec_enc_attns"
   ]
  },
  {
   "cell_type": "markdown",
   "id": "3c3328f5",
   "metadata": {},
   "source": [
    "## 模型训练"
   ]
  },
  {
   "cell_type": "code",
   "execution_count": 13,
   "id": "6f2cf469",
   "metadata": {},
   "outputs": [
    {
     "name": "stderr",
     "output_type": "stream",
     "text": [
      "  2%|▏         | 1/50 [00:21<17:16, 21.15s/it]"
     ]
    },
    {
     "name": "stdout",
     "output_type": "stream",
     "text": [
      "Epoch: 1 loss = 2.633762\n"
     ]
    },
    {
     "name": "stderr",
     "output_type": "stream",
     "text": [
      "\r",
      "  4%|▍         | 2/50 [00:42<17:06, 21.39s/it]"
     ]
    },
    {
     "name": "stdout",
     "output_type": "stream",
     "text": [
      "Epoch: 2 loss = 2.063002\n"
     ]
    },
    {
     "name": "stderr",
     "output_type": "stream",
     "text": [
      "\r",
      "  6%|▌         | 3/50 [01:04<16:48, 21.47s/it]"
     ]
    },
    {
     "name": "stdout",
     "output_type": "stream",
     "text": [
      "Epoch: 3 loss = 1.866944\n"
     ]
    },
    {
     "name": "stderr",
     "output_type": "stream",
     "text": [
      "\r",
      "  8%|▊         | 4/50 [01:25<16:16, 21.23s/it]"
     ]
    },
    {
     "name": "stdout",
     "output_type": "stream",
     "text": [
      "Epoch: 4 loss = 1.802783\n"
     ]
    },
    {
     "name": "stderr",
     "output_type": "stream",
     "text": [
      "\r",
      " 10%|█         | 5/50 [01:45<15:49, 21.10s/it]"
     ]
    },
    {
     "name": "stdout",
     "output_type": "stream",
     "text": [
      "Epoch: 5 loss = 1.643217\n"
     ]
    },
    {
     "name": "stderr",
     "output_type": "stream",
     "text": [
      "\r",
      " 12%|█▏        | 6/50 [02:07<15:27, 21.07s/it]"
     ]
    },
    {
     "name": "stdout",
     "output_type": "stream",
     "text": [
      "Epoch: 6 loss = 1.803471\n"
     ]
    },
    {
     "name": "stderr",
     "output_type": "stream",
     "text": [
      "\r",
      " 14%|█▍        | 7/50 [02:27<15:04, 21.02s/it]"
     ]
    },
    {
     "name": "stdout",
     "output_type": "stream",
     "text": [
      "Epoch: 7 loss = 1.518794\n"
     ]
    },
    {
     "name": "stderr",
     "output_type": "stream",
     "text": [
      "\r",
      " 16%|█▌        | 8/50 [02:48<14:41, 20.99s/it]"
     ]
    },
    {
     "name": "stdout",
     "output_type": "stream",
     "text": [
      "Epoch: 8 loss = 1.632840\n"
     ]
    },
    {
     "name": "stderr",
     "output_type": "stream",
     "text": [
      "\r",
      " 18%|█▊        | 9/50 [03:10<14:23, 21.06s/it]"
     ]
    },
    {
     "name": "stdout",
     "output_type": "stream",
     "text": [
      "Epoch: 9 loss = 1.446730\n"
     ]
    },
    {
     "name": "stderr",
     "output_type": "stream",
     "text": [
      "\r",
      " 20%|██        | 10/50 [03:31<14:02, 21.06s/it]"
     ]
    },
    {
     "name": "stdout",
     "output_type": "stream",
     "text": [
      "Epoch: 10 loss = 1.340348\n"
     ]
    },
    {
     "name": "stderr",
     "output_type": "stream",
     "text": [
      "\r",
      " 22%|██▏       | 11/50 [03:52<13:40, 21.04s/it]"
     ]
    },
    {
     "name": "stdout",
     "output_type": "stream",
     "text": [
      "Epoch: 11 loss = 1.366917\n"
     ]
    },
    {
     "name": "stderr",
     "output_type": "stream",
     "text": [
      "\r",
      " 24%|██▍       | 12/50 [04:13<13:20, 21.06s/it]"
     ]
    },
    {
     "name": "stdout",
     "output_type": "stream",
     "text": [
      "Epoch: 12 loss = 1.499715\n"
     ]
    },
    {
     "name": "stderr",
     "output_type": "stream",
     "text": [
      "\r",
      " 26%|██▌       | 13/50 [04:34<13:01, 21.12s/it]"
     ]
    },
    {
     "name": "stdout",
     "output_type": "stream",
     "text": [
      "Epoch: 13 loss = 1.371446\n"
     ]
    },
    {
     "name": "stderr",
     "output_type": "stream",
     "text": [
      "\r",
      " 28%|██▊       | 14/50 [04:55<12:41, 21.14s/it]"
     ]
    },
    {
     "name": "stdout",
     "output_type": "stream",
     "text": [
      "Epoch: 14 loss = 1.380498\n"
     ]
    },
    {
     "name": "stderr",
     "output_type": "stream",
     "text": [
      "\r",
      " 30%|███       | 15/50 [05:16<12:19, 21.14s/it]"
     ]
    },
    {
     "name": "stdout",
     "output_type": "stream",
     "text": [
      "Epoch: 15 loss = 1.298183\n"
     ]
    },
    {
     "name": "stderr",
     "output_type": "stream",
     "text": [
      "\r",
      " 32%|███▏      | 16/50 [05:37<11:53, 20.99s/it]"
     ]
    },
    {
     "name": "stdout",
     "output_type": "stream",
     "text": [
      "Epoch: 16 loss = 1.107512\n"
     ]
    },
    {
     "name": "stderr",
     "output_type": "stream",
     "text": [
      "\r",
      " 34%|███▍      | 17/50 [05:57<11:27, 20.85s/it]"
     ]
    },
    {
     "name": "stdout",
     "output_type": "stream",
     "text": [
      "Epoch: 17 loss = 1.015355\n"
     ]
    },
    {
     "name": "stderr",
     "output_type": "stream",
     "text": [
      "\r",
      " 36%|███▌      | 18/50 [06:18<11:04, 20.76s/it]"
     ]
    },
    {
     "name": "stdout",
     "output_type": "stream",
     "text": [
      "Epoch: 18 loss = 0.891573\n"
     ]
    },
    {
     "name": "stderr",
     "output_type": "stream",
     "text": [
      "\r",
      " 38%|███▊      | 19/50 [06:39<10:41, 20.69s/it]"
     ]
    },
    {
     "name": "stdout",
     "output_type": "stream",
     "text": [
      "Epoch: 19 loss = 1.035157\n"
     ]
    },
    {
     "name": "stderr",
     "output_type": "stream",
     "text": [
      "\r",
      " 40%|████      | 20/50 [06:59<10:19, 20.64s/it]"
     ]
    },
    {
     "name": "stdout",
     "output_type": "stream",
     "text": [
      "Epoch: 20 loss = 1.059943\n"
     ]
    },
    {
     "name": "stderr",
     "output_type": "stream",
     "text": [
      "\r",
      " 42%|████▏     | 21/50 [07:20<09:58, 20.64s/it]"
     ]
    },
    {
     "name": "stdout",
     "output_type": "stream",
     "text": [
      "Epoch: 21 loss = 0.995347\n"
     ]
    },
    {
     "name": "stderr",
     "output_type": "stream",
     "text": [
      "\r",
      " 44%|████▍     | 22/50 [07:40<09:38, 20.65s/it]"
     ]
    },
    {
     "name": "stdout",
     "output_type": "stream",
     "text": [
      "Epoch: 22 loss = 0.828730\n"
     ]
    },
    {
     "name": "stderr",
     "output_type": "stream",
     "text": [
      "\r",
      " 46%|████▌     | 23/50 [08:01<09:18, 20.68s/it]"
     ]
    },
    {
     "name": "stdout",
     "output_type": "stream",
     "text": [
      "Epoch: 23 loss = 0.717403\n"
     ]
    },
    {
     "name": "stderr",
     "output_type": "stream",
     "text": [
      "\r",
      " 48%|████▊     | 24/50 [08:22<08:59, 20.77s/it]"
     ]
    },
    {
     "name": "stdout",
     "output_type": "stream",
     "text": [
      "Epoch: 24 loss = 0.768870\n"
     ]
    },
    {
     "name": "stderr",
     "output_type": "stream",
     "text": [
      "\r",
      " 50%|█████     | 25/50 [08:43<08:39, 20.80s/it]"
     ]
    },
    {
     "name": "stdout",
     "output_type": "stream",
     "text": [
      "Epoch: 25 loss = 0.713927\n"
     ]
    },
    {
     "name": "stderr",
     "output_type": "stream",
     "text": [
      "\r",
      " 52%|█████▏    | 26/50 [09:04<08:18, 20.75s/it]"
     ]
    },
    {
     "name": "stdout",
     "output_type": "stream",
     "text": [
      "Epoch: 26 loss = 0.797918\n"
     ]
    },
    {
     "name": "stderr",
     "output_type": "stream",
     "text": [
      "\r",
      " 54%|█████▍    | 27/50 [09:24<07:57, 20.74s/it]"
     ]
    },
    {
     "name": "stdout",
     "output_type": "stream",
     "text": [
      "Epoch: 27 loss = 0.680246\n"
     ]
    },
    {
     "name": "stderr",
     "output_type": "stream",
     "text": [
      "\r",
      " 56%|█████▌    | 28/50 [09:45<07:36, 20.76s/it]"
     ]
    },
    {
     "name": "stdout",
     "output_type": "stream",
     "text": [
      "Epoch: 28 loss = 0.611770\n"
     ]
    },
    {
     "name": "stderr",
     "output_type": "stream",
     "text": [
      "\r",
      " 58%|█████▊    | 29/50 [10:06<07:16, 20.77s/it]"
     ]
    },
    {
     "name": "stdout",
     "output_type": "stream",
     "text": [
      "Epoch: 29 loss = 0.810355\n"
     ]
    },
    {
     "name": "stderr",
     "output_type": "stream",
     "text": [
      "\r",
      " 60%|██████    | 30/50 [10:27<06:57, 20.86s/it]"
     ]
    },
    {
     "name": "stdout",
     "output_type": "stream",
     "text": [
      "Epoch: 30 loss = 0.537487\n"
     ]
    },
    {
     "name": "stderr",
     "output_type": "stream",
     "text": [
      "\r",
      " 62%|██████▏   | 31/50 [10:48<06:37, 20.93s/it]"
     ]
    },
    {
     "name": "stdout",
     "output_type": "stream",
     "text": [
      "Epoch: 31 loss = 0.484650\n"
     ]
    },
    {
     "name": "stderr",
     "output_type": "stream",
     "text": [
      "\r",
      " 64%|██████▍   | 32/50 [11:09<06:15, 20.86s/it]"
     ]
    },
    {
     "name": "stdout",
     "output_type": "stream",
     "text": [
      "Epoch: 32 loss = 0.447033\n"
     ]
    },
    {
     "name": "stderr",
     "output_type": "stream",
     "text": [
      "\r",
      " 66%|██████▌   | 33/50 [11:30<05:54, 20.83s/it]"
     ]
    },
    {
     "name": "stdout",
     "output_type": "stream",
     "text": [
      "Epoch: 33 loss = 0.399072\n"
     ]
    },
    {
     "name": "stderr",
     "output_type": "stream",
     "text": [
      "\r",
      " 68%|██████▊   | 34/50 [11:51<05:34, 20.90s/it]"
     ]
    },
    {
     "name": "stdout",
     "output_type": "stream",
     "text": [
      "Epoch: 34 loss = 0.379649\n"
     ]
    },
    {
     "name": "stderr",
     "output_type": "stream",
     "text": [
      "\r",
      " 70%|███████   | 35/50 [12:12<05:13, 20.92s/it]"
     ]
    },
    {
     "name": "stdout",
     "output_type": "stream",
     "text": [
      "Epoch: 35 loss = 0.270823\n"
     ]
    },
    {
     "name": "stderr",
     "output_type": "stream",
     "text": [
      "\r",
      " 72%|███████▏  | 36/50 [12:32<04:52, 20.91s/it]"
     ]
    },
    {
     "name": "stdout",
     "output_type": "stream",
     "text": [
      "Epoch: 36 loss = 0.337878\n"
     ]
    },
    {
     "name": "stderr",
     "output_type": "stream",
     "text": [
      "\r",
      " 74%|███████▍  | 37/50 [12:53<04:30, 20.81s/it]"
     ]
    },
    {
     "name": "stdout",
     "output_type": "stream",
     "text": [
      "Epoch: 37 loss = 0.235440\n"
     ]
    },
    {
     "name": "stderr",
     "output_type": "stream",
     "text": [
      "\r",
      " 76%|███████▌  | 38/50 [13:14<04:09, 20.77s/it]"
     ]
    },
    {
     "name": "stdout",
     "output_type": "stream",
     "text": [
      "Epoch: 38 loss = 0.337393\n"
     ]
    },
    {
     "name": "stderr",
     "output_type": "stream",
     "text": [
      "\r",
      " 78%|███████▊  | 39/50 [13:35<03:49, 20.85s/it]"
     ]
    },
    {
     "name": "stdout",
     "output_type": "stream",
     "text": [
      "Epoch: 39 loss = 0.260191\n"
     ]
    },
    {
     "name": "stderr",
     "output_type": "stream",
     "text": [
      "\r",
      " 80%|████████  | 40/50 [13:56<03:28, 20.89s/it]"
     ]
    },
    {
     "name": "stdout",
     "output_type": "stream",
     "text": [
      "Epoch: 40 loss = 0.210084\n"
     ]
    },
    {
     "name": "stderr",
     "output_type": "stream",
     "text": [
      "\r",
      " 82%|████████▏ | 41/50 [14:17<03:09, 21.03s/it]"
     ]
    },
    {
     "name": "stdout",
     "output_type": "stream",
     "text": [
      "Epoch: 41 loss = 0.168616\n"
     ]
    },
    {
     "name": "stderr",
     "output_type": "stream",
     "text": [
      "\r",
      " 84%|████████▍ | 42/50 [14:38<02:47, 20.97s/it]"
     ]
    },
    {
     "name": "stdout",
     "output_type": "stream",
     "text": [
      "Epoch: 42 loss = 0.213607\n"
     ]
    },
    {
     "name": "stderr",
     "output_type": "stream",
     "text": [
      "\r",
      " 86%|████████▌ | 43/50 [14:58<02:25, 20.82s/it]"
     ]
    },
    {
     "name": "stdout",
     "output_type": "stream",
     "text": [
      "Epoch: 43 loss = 0.110551\n"
     ]
    },
    {
     "name": "stderr",
     "output_type": "stream",
     "text": [
      "\r",
      " 88%|████████▊ | 44/50 [15:19<02:04, 20.74s/it]"
     ]
    },
    {
     "name": "stdout",
     "output_type": "stream",
     "text": [
      "Epoch: 44 loss = 0.183562\n"
     ]
    },
    {
     "name": "stderr",
     "output_type": "stream",
     "text": [
      "\r",
      " 90%|█████████ | 45/50 [15:39<01:43, 20.62s/it]"
     ]
    },
    {
     "name": "stdout",
     "output_type": "stream",
     "text": [
      "Epoch: 45 loss = 0.095172\n"
     ]
    },
    {
     "name": "stderr",
     "output_type": "stream",
     "text": [
      "\r",
      " 92%|█████████▏| 46/50 [16:00<01:22, 20.57s/it]"
     ]
    },
    {
     "name": "stdout",
     "output_type": "stream",
     "text": [
      "Epoch: 46 loss = 0.132387\n"
     ]
    },
    {
     "name": "stderr",
     "output_type": "stream",
     "text": [
      "\r",
      " 94%|█████████▍| 47/50 [16:20<01:01, 20.52s/it]"
     ]
    },
    {
     "name": "stdout",
     "output_type": "stream",
     "text": [
      "Epoch: 47 loss = 0.163805\n"
     ]
    },
    {
     "name": "stderr",
     "output_type": "stream",
     "text": [
      "\r",
      " 96%|█████████▌| 48/50 [16:41<00:40, 20.49s/it]"
     ]
    },
    {
     "name": "stdout",
     "output_type": "stream",
     "text": [
      "Epoch: 48 loss = 0.152195\n"
     ]
    },
    {
     "name": "stderr",
     "output_type": "stream",
     "text": [
      "\r",
      " 98%|█████████▊| 49/50 [17:01<00:20, 20.49s/it]"
     ]
    },
    {
     "name": "stdout",
     "output_type": "stream",
     "text": [
      "Epoch: 49 loss = 0.086681\n"
     ]
    },
    {
     "name": "stderr",
     "output_type": "stream",
     "text": [
      "100%|██████████| 50/50 [17:22<00:00, 20.84s/it]"
     ]
    },
    {
     "name": "stdout",
     "output_type": "stream",
     "text": [
      "Epoch: 50 loss = 0.085496\n"
     ]
    },
    {
     "name": "stderr",
     "output_type": "stream",
     "text": [
      "\n"
     ]
    }
   ],
   "source": [
    "d_model = 512   # 字 Embedding 的维度\n",
    "d_ff = 2048     # 前向传播隐藏层维度\n",
    "d_k = d_v = 64  # K(=Q), V的维度 \n",
    "n_layers = 6    # 有多少个encoder和decoder\n",
    "n_heads = 8     # Multi-Head Attention设置为8\n",
    "num_epochs = 50 # 训练50轮\n",
    "# 记录损失变化\n",
    "loss_history = []\n",
    "\n",
    "model = Transformer()\n",
    "criterion = nn.CrossEntropyLoss(ignore_index=0)\n",
    "optimizer = optim.SGD(model.parameters(), lr=0.001, momentum=0.99)\n",
    "\n",
    "for epoch in tqdm(range(num_epochs)):\n",
    "    for enc_inputs, dec_inputs, dec_outputs in train_loader:\n",
    "        '''\n",
    "        enc_inputs: [batch_size, src_len]\n",
    "        dec_inputs: [batch_size, tgt_len]\n",
    "        dec_outputs: [batch_size, tgt_len]\n",
    "        '''\n",
    "        # enc_inputs, dec_inputs, dec_outputs = enc_inputs.to(device), dec_inputs.to(device), dec_outputs.to(device)\n",
    "        # outputs: [batch_size * tgt_len, tgt_vocab_size]\n",
    "        outputs, enc_self_attns, dec_self_attns, dec_enc_attns = model(enc_inputs, dec_inputs)\n",
    "        loss = criterion(outputs, dec_outputs.view(-1))\n",
    "        optimizer.zero_grad()\n",
    "        loss.backward()\n",
    "        optimizer.step()\n",
    "        loss_history.append(loss.item())\n",
    "    print('Epoch:', '%d' % (epoch + 1), 'loss =', '{:.6f}'.format(loss))"
   ]
  },
  {
   "cell_type": "code",
   "execution_count": 14,
   "id": "6c7f102c",
   "metadata": {},
   "outputs": [
    {
     "data": {
      "image/png": "[encoded data removed]",
      "text/plain": [
       "<Figure size 640x480 with 1 Axes>"
      ]
     },
     "metadata": {},
     "output_type": "display_data"
    }
   ],
   "source": [
    "plt.plot(loss_history)\n",
    "plt.ylabel('train loss')\n",
    "plt.show()"
   ]
  },
  {
   "cell_type": "markdown",
   "id": "436f3944",
   "metadata": {},
   "source": [
    "## 模型预测"
   ]
  },
  {
   "cell_type": "code",
   "execution_count": 15,
   "id": "2c99ea7d",
   "metadata": {},
   "outputs": [
    {
     "name": "stdout",
     "output_type": "stream",
     "text": [
      "0.3333333333333333\n"
     ]
    }
   ],
   "source": [
    "model.eval()\n",
    "translation_results = []\n",
    "\n",
    "correct = 0\n",
    "error = 0\n",
    "\n",
    "for enc_inputs, dec_inputs, dec_outputs in test_loader:\n",
    "    '''\n",
    "    enc_inputs: [batch_size, src_len]\n",
    "    dec_inputs: [batch_size, tgt_len]\n",
    "    dec_outputs: [batch_size, tgt_len]\n",
    "    '''\n",
    "    # enc_inputs, dec_inputs, dec_outputs = enc_inputs.to(device), dec_inputs.to(device), dec_outputs.to(device)\n",
    "    # outputs: [batch_size * tgt_len, tgt_vocab_size]\n",
    "    outputs, enc_self_attns, dec_self_attns, dec_enc_attns = model(enc_inputs, dec_inputs)\n",
    "    # pred形状为 (seq_len, batch_size, vocab_size) = (1, 1, vocab_size)\n",
    "    # dec_outputs, dec_self_attns, dec_enc_attns = model.decoder(dec_inputs, enc_inputs, enc_output)\n",
    "    \n",
    "    outputs = outputs.squeeze()\n",
    "    \n",
    "    pred_seq = []\n",
    "    for output in outputs:\n",
    "        next_token_index = output.argmax().item()\n",
    "        if next_token_index == tgt_vocab['<eos>']:\n",
    "            break\n",
    "        pred_seq.append(next_token_index)\n",
    "    \n",
    "    pred_seq = tgt_vocab[pred_seq]\n",
    "    tgt_seq = dec_outputs.squeeze().tolist()\n",
    "    \n",
    "    # 需要注意在<eos>之前截断\n",
    "    if tgt_vocab['<eos>'] in tgt_seq:\n",
    "        eos_idx = tgt_seq.index(tgt_vocab['<eos>'])\n",
    "        tgt_seq = tgt_vocab[tgt_seq[:eos_idx]]\n",
    "    else:\n",
    "        tgt_seq = tgt_vocab[tgt_seq]\n",
    "    translation_results.append((' '.join(tgt_seq), ' '.join(pred_seq)))\n",
    "    \n",
    "    for i in range(len(tgt_seq)):\n",
    "        if i >= len(pred_seq) or pred_seq[i] != tgt_seq[i]:\n",
    "            error += 1\n",
    "        else:\n",
    "            correct += 1\n",
    "    \n",
    "print(correct/(correct+error))"
   ]
  },
  {
   "cell_type": "code",
   "execution_count": 16,
   "id": "87a19f24",
   "metadata": {},
   "outputs": [
    {
     "data": {
      "text/plain": [
       "[('h x n y e k', 'h y y y k'),\n",
       " ('y l z k i t', 't i t j i t y'),\n",
       " ('t s x e e v', 's s v e e v'),\n",
       " ('e g a m t h', 'f i h h h'),\n",
       " ('d b v t l r', 'e r l l r r'),\n",
       " ('d b e p m m', 'b m e m m'),\n",
       " ('e j r d f w', 'g r w w g'),\n",
       " ('p n p v w j', 'v n j v w j'),\n",
       " ('m q c v g w', 'n g g v w w'),\n",
       " ('q b j e e y', 'q y y e y y'),\n",
       " ('i x j g h z', 'g g g g h g'),\n",
       " ('m z d t r f', 'z d d f r'),\n",
       " ('o y g a c g', 'a a g g c g'),\n",
       " ('m c w z c s', 's s s s c'),\n",
       " ('h b f r z g', 'z z r g g g'),\n",
       " ('h c i o l m', 'c c o c m m'),\n",
       " ('r z e e u t', 'u e e t t t r'),\n",
       " ('g d h d q y', 'y d y y y'),\n",
       " ('r l m s u r', 'f l u s r r r'),\n",
       " ('a v q s k x', 's s s s x'),\n",
       " ('m c g a e u', 'g g a a u u'),\n",
       " ('k y y o b u', 'k o o o b u'),\n",
       " ('r n n i o s', 'o n o o s s s'),\n",
       " ('x x k y n u', 'h n n n n u'),\n",
       " ('l v q a p i', 'q i a a p i v'),\n",
       " ('v r m h w s', 'h r h h s s'),\n",
       " ('x m i o z t', 'i i i q q m'),\n",
       " ('o c y y e j', 'y y y e e j'),\n",
       " ('k w j w a d', 'w w j n n n'),\n",
       " ('m u c l x u', 'l u x l u'),\n",
       " ('y u p g r k', 'u u s s k'),\n",
       " ('q i e t j q', 'e j q q q q l'),\n",
       " ('f q s k n a', 'f a a a a a'),\n",
       " ('i i m o l i', 'l l l l i i'),\n",
       " ('t e y i i j', 'y i l i j'),\n",
       " ('w j p o p f', 'p f s f d f'),\n",
       " ('l r m c z c', 'm c c c z r'),\n",
       " ('a w e i x w', 'w w x i v a'),\n",
       " ('u h q e n v', 'q n e n v v h'),\n",
       " ('c z y l g l', 'y g l l l l l'),\n",
       " ('z q r y x b', 'r r b x q b q'),\n",
       " ('g m g b o w', 'g o w o w'),\n",
       " ('m h y p l y', 'h h y l l s'),\n",
       " ('h r d n q m', 'q r q m r m r'),\n",
       " ('m u c i q u', 'u u c i k m m'),\n",
       " ('q q n u q u', 'q q u u q q'),\n",
       " ('u q t a r b', 'r r b z r'),\n",
       " ('o v j f e w', 'f f p e e f'),\n",
       " ('o r y p y k', 'y y k p v'),\n",
       " ('i c b s j u', 'u u y j u i'),\n",
       " ('n e u a j o', 'j j j o u e'),\n",
       " ('o q n x e x', 'q q x x k'),\n",
       " ('n g u b s z', 'b g s s s z'),\n",
       " ('n f e x a r', 'n q r x a e'),\n",
       " ('f m b y p w', 'w m b p p m'),\n",
       " ('e k m f w n', 'w f n w n n'),\n",
       " ('y y m b b z', 'm m b b z z y'),\n",
       " ('i j v g k l', 's y s s s'),\n",
       " ('a w e g p m', 'm e p g p m'),\n",
       " ('k y q v a o', 'y a a v a o y'),\n",
       " ('w s f v d u', 'w r d v d r'),\n",
       " ('a r h k q v', 'r h k k q v'),\n",
       " ('t x x k s g', 's s s s s g'),\n",
       " ('e v q f e g', 'q q q f g g'),\n",
       " ('t k l s m h', 's k s m h h'),\n",
       " ('x u b e d t', 'b b d e d t'),\n",
       " ('r f i d s z', 'z z z d s z'),\n",
       " ('m g f y s g', 's s s s s g'),\n",
       " ('t f d u d e', 'u u u z z z'),\n",
       " ('f x y g b c', 'c g y g c c'),\n",
       " ('p u z n b u', 'b u n n w u'),\n",
       " ('k y e j h m', 'h m h h m m'),\n",
       " ('b r u u r b', 'r u u n n w n'),\n",
       " ('y j r h e u', 'y u u l u u r'),\n",
       " ('o q j k x c', 'q c c c x'),\n",
       " ('w s d t d r', 'd d d r r r'),\n",
       " ('e w x i s v', 'i i s i v v'),\n",
       " ('d z s q d g', 'b s s s b b'),\n",
       " ('a n x y w g', 'r w l l l l'),\n",
       " ('e a f y k c', 'c c c c e c'),\n",
       " ('h k h u d m', 'h s s s s f'),\n",
       " ('u z r d t k', 'd d d y y'),\n",
       " ('f l v z i j', 'v l j s j j'),\n",
       " ('g e n w h l', 'h e h h h l v'),\n",
       " ('l u l c a p', 'u u a p p h c'),\n",
       " ('m a q g v g', 'v g g g v c'),\n",
       " ('p t p t r r', 'w k r r r'),\n",
       " ('i w e q g o', 'i g g g o o'),\n",
       " ('w u n o v x', 'r n v o v z'),\n",
       " ('y s q n i i', 'i i i i i c s'),\n",
       " ('u g h j l d', 'd d j l v'),\n",
       " ('m l b v v u', 'b l u v v u'),\n",
       " ('y k q s y o', 's s s s y'),\n",
       " ('e f d v l a', 'a a a l l g'),\n",
       " ('t m r a z z', 'z r z z z z'),\n",
       " ('g z k f p r', 'g k k r g r'),\n",
       " ('b d k e m e', 'e e e e e e t'),\n",
       " ('q q h x f t', 'q m m x y q'),\n",
       " ('i p q w d p', 'p p q w d p'),\n",
       " ('u s b z k o', 's s z k k s'),\n",
       " ('k p q z y d', 'k d s z d d s'),\n",
       " ('n w i s m x', 's i s s x x'),\n",
       " ('n i x u l k', 'u g g k k k'),\n",
       " ('i j q e l w', 'i r q w l w'),\n",
       " ('y e p w f c', 'y f c c y'),\n",
       " ('i i r m q i', 'q m m q q r q'),\n",
       " ('d t e z l k', 'e e z z l'),\n",
       " ('e l j z p b', 'b q y z p'),\n",
       " ('o s y o a h', 's s y a h h'),\n",
       " ('z k q q q c', 'u q q q c c q'),\n",
       " ('f d c n n e', 'f e c e e e'),\n",
       " ('n e d m i s', 'd i i m i s'),\n",
       " ('j o l b e n', 'l o a b e a'),\n",
       " ('p r g t k d', 'd d d t k d r'),\n",
       " ('v d h e f u', 'v d u u u h'),\n",
       " ('q j l g t r', 'r r r g a r'),\n",
       " ('u v j a k g', 'a a k a g g'),\n",
       " ('w j z w a o', 'z z a a o'),\n",
       " ('o h l e d a', 'l d l d d'),\n",
       " ('v r n q e b', 'b b b q b v'),\n",
       " ('g n z r o b', 'b r z r o b'),\n",
       " ('b g q u u k', 'b u u u k k'),\n",
       " ('e b q j d i', 'i q i i i'),\n",
       " ('o h u j b a', 'j u a a b a'),\n",
       " ('i v i y v t', 'i y y t t t v'),\n",
       " ('a m x l l p', 'm m r r l p'),\n",
       " ('r a c g m z', 'r a g z z z'),\n",
       " ('q c y v v d', 'n y v d d d'),\n",
       " ('d e j m j v', 'j j j w v v'),\n",
       " ('h j g q p o', 'q q q q o o'),\n",
       " ('x g t i r k', 'x i r i r'),\n",
       " ('f g e c l s', 'e s s s s r'),\n",
       " ('c x h l s j', 'l s s s j j'),\n",
       " ('a k x r h d', 'z z z d d e'),\n",
       " ('h q f r a g', 'f f a g a g'),\n",
       " ('f u a a o h', 'f u a h h h'),\n",
       " ('p t j q u a', 'a a j a a a'),\n",
       " ('t i y c t h', 's s s s h h'),\n",
       " ('g h d v q n', 'g h v v o g'),\n",
       " ('p a f e m g', 'p e e g g g'),\n",
       " ('o y w p q x', 'p p q q q w'),\n",
       " ('y x f t o d', 'y d f o o d'),\n",
       " ('f l x d f l', 'z l d l l l'),\n",
       " ('o m n v o w', 'w o w w w z'),\n",
       " ('y n w g p t', 'y p g g t t y'),\n",
       " ('d y s t k i', 's s s i k s'),\n",
       " ('h h m p w h', 'h m m q q h h'),\n",
       " ('p q h d d d', 'q q d d d d'),\n",
       " ('c h t l j f', 'h l l l j i'),\n",
       " ('x e d t j d', 'e e d l d s'),\n",
       " ('w i i e f n', 'i i i f y'),\n",
       " ('b l k d l s', 'k k s r s s'),\n",
       " ('u s p d u d', 'd d d d u v'),\n",
       " ('e a g s o c', 'a a s s c c'),\n",
       " ('c s f k l n', 'q s f g l'),\n",
       " ('l f g l u b', 'l u g l u b'),\n",
       " ('k e s m e v', 'q s s v r l'),\n",
       " ('q r q j r a', 'r r j a r'),\n",
       " ('v r d j w a', 'a a j a w'),\n",
       " ('y k y v k r', 'k k r d r r l'),\n",
       " ('l h e i x a', 'x i a i v a'),\n",
       " ('o r g u b h', 'h i b u b h'),\n",
       " ('h n c l v g', 'g c l g v h'),\n",
       " ('f d u j r f', 'f u u j r'),\n",
       " ('p a h i p a', 'p i h i a a h'),\n",
       " ('u d z t m z', 'd d z u m z u'),\n",
       " ('j i c c n d', 'i i c r r r'),\n",
       " ('u w w q o g', 'q g q q g w'),\n",
       " ('n t i z v t', 'o o z z n'),\n",
       " ('p t o t w b', 'p s o b b b'),\n",
       " ('v n a u o y', 'f a a c y s'),\n",
       " ('u x q k l s', 's s l k s s'),\n",
       " ('o a j u g y', 'o a u u g y'),\n",
       " ('u z t u o t', 't t t o v t'),\n",
       " ('m o b q b f', 'b s b q b q'),\n",
       " ('d e z w b o', 'y o z y y'),\n",
       " ('r m m a d y', 'd d y y d y'),\n",
       " ('t e r d m r', 'e r r l m r'),\n",
       " ('d z z d e x', 'x z u u x x'),\n",
       " ('o p q h f l', 't c c l l l'),\n",
       " ('w k s d k k', 'k k k d k'),\n",
       " ('y i u u k y', 'u a a u y y a'),\n",
       " ('q b j v p o', 'v v v v o o'),\n",
       " ('l p k v r l', 'c c v v l'),\n",
       " ('z b z y o l', 'b o o y l l y'),\n",
       " ('z q u l t y', 'u u l y y y'),\n",
       " ('n v n j v q', 'v v j q q s v'),\n",
       " ('a d b e i y', 'i i i i y y'),\n",
       " ('p i d v i m', 'v i d s s s'),\n",
       " ('p n o a q x', 'n q a q x x'),\n",
       " ('w t p p q g', 'y g g q q l'),\n",
       " ('g o d y s h', 'y d h s s h g'),\n",
       " ('w e n h p a', 'q g n p p i'),\n",
       " ('k y s l s t', 's s s l s t y'),\n",
       " ('d b l i n j', 'l l l j j'),\n",
       " ('w d f y t n', 'n n f t t z'),\n",
       " ('a y t m u p', 'm u m m u j'),\n",
       " ('d r p z z r', 'z r z z r r'),\n",
       " ('c y a j z f', 'j a j z z c'),\n",
       " ('z c p c w c', 'n c c w w')]"
      ]
     },
     "execution_count": 16,
     "metadata": {},
     "output_type": "execute_result"
    }
   ],
   "source": [
    "translation_results"
   ]
  }
 ],
 "metadata": {
  "kernelspec": {
   "display_name": "Python 3 (ipykernel)",
   "language": "python",
   "name": "python3"
  },
  "language_info": {
   "codemirror_mode": {
    "name": "ipython",
    "version": 3
   },
   "file_extension": ".py",
   "mimetype": "text/x-python",
   "name": "python",
   "nbconvert_exporter": "python",
   "pygments_lexer": "ipython3",
   "version": "3.8.10"
  },
  "toc": {
   "base_numbering": 1,
   "nav_menu": {},
   "number_sections": true,
   "sideBar": true,
   "skip_h1_title": false,
   "title_cell": "Table of Contents",
   "title_sidebar": "Contents",
   "toc_cell": false,
   "toc_position": {},
   "toc_section_display": true,
   "toc_window_display": false
  }
 },
 "nbformat": 4,
 "nbformat_minor": 5
}
