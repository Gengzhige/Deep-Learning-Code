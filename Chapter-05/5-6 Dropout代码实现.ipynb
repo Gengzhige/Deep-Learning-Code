{
 "cells": [
  {
   "cell_type": "markdown",
   "id": "10eef938",
   "metadata": {},
   "source": [
    "### 代码实现"
   ]
  },
  {
   "cell_type": "code",
   "execution_count": 1,
   "id": "142a326f",
   "metadata": {},
   "outputs": [],
   "source": [
    "# 导入必要的库\n",
    "import torch\n",
    "import torch.nn as nn\n",
    "import matplotlib.pyplot as plt\n",
    "\n",
    "# 随机数种子\n",
    "torch.manual_seed(2333)\n",
    "\n",
    "# 定义超参数\n",
    "num_samples = 20 # 样本数\n",
    "hidden_size = 200 # 隐藏层大小\n",
    "num_epochs = 500  # 训练轮数"
   ]
  },
  {
   "cell_type": "markdown",
   "id": "cc854ac5",
   "metadata": {},
   "source": [
    "### 数据生成"
   ]
  },
  {
   "cell_type": "code",
   "execution_count": 2,
   "id": "c4ebe862",
   "metadata": {},
   "outputs": [
    {
     "data": {
      "image/png": "[encoded data removed]",
      "text/plain": [
       "<Figure size 432x288 with 1 Axes>"
      ]
     },
     "metadata": {
      "needs_background": "light"
     },
     "output_type": "display_data"
    }
   ],
   "source": [
    "# 生成训练集\n",
    "x_train = torch.unsqueeze(torch.linspace(-1, 1, num_samples), 1)\n",
    "y_train = x_train + 0.3 * torch.randn(num_samples, 1)\n",
    "\n",
    "# 测试集\n",
    "x_test = torch.unsqueeze(torch.linspace(-1, 1, num_samples), 1)\n",
    "y_test = x_test + 0.3 *  torch.randn(num_samples, 1)\n",
    "\n",
    "# 绘制训练集和测试集\n",
    "plt.scatter(x_train, y_train, c='r', alpha=0.5, label='train')\n",
    "plt.scatter(x_test, y_test, c='b', alpha=0.5, label='test')\n",
    "plt.legend(loc='upper left')\n",
    "plt.ylim((-2, 2))\n",
    "plt.show()"
   ]
  },
  {
   "cell_type": "markdown",
   "id": "112f71f2",
   "metadata": {},
   "source": [
    "### 模型定义"
   ]
  },
  {
   "cell_type": "code",
   "execution_count": 3,
   "id": "6e4f5e40",
   "metadata": {},
   "outputs": [],
   "source": [
    "# 定义一个可能会过拟合的网络\n",
    "net_overfitting = torch.nn.Sequential(\n",
    "    torch.nn.Linear(1, hidden_size),\n",
    "    torch.nn.ReLU(),\n",
    "    torch.nn.Linear(hidden_size, hidden_size),\n",
    "    torch.nn.ReLU(),\n",
    "    torch.nn.Linear(hidden_size, 1),\n",
    ")\n",
    "\n",
    "# 定义一个包含 Dropout 的网络\n",
    "net_dropout = torch.nn.Sequential(\n",
    "    torch.nn.Linear(1, hidden_size),\n",
    "    torch.nn.Dropout(0.5),  # p=0.5\n",
    "    torch.nn.ReLU(),\n",
    "    torch.nn.Linear(hidden_size, hidden_size),\n",
    "    torch.nn.Dropout(0.5),  # p=0.5\n",
    "    torch.nn.ReLU(),\n",
    "    torch.nn.Linear(hidden_size, 1),\n",
    ")"
   ]
  },
  {
   "cell_type": "markdown",
   "id": "729631eb",
   "metadata": {},
   "source": [
    "### 模型训练"
   ]
  },
  {
   "cell_type": "code",
   "execution_count": 4,
   "id": "489c6ba6",
   "metadata": {},
   "outputs": [],
   "source": [
    "# 定义优化器和损失函数\n",
    "optimizer_overfitting = torch.optim.Adam(net_overfitting.parameters(), lr=0.01)\n",
    "optimizer_dropout = torch.optim.Adam(net_dropout.parameters(), lr=0.01)\n",
    "\n",
    "# 损失函数\n",
    "criterion = nn.MSELoss()\n",
    "\n",
    "# 分别进行训练\n",
    "for i in range(num_epochs):\n",
    "    # overfitting的网络：预测、损失函数、反向传播\n",
    "    pred_overfitting = net_overfitting(x_train)\n",
    "    loss_overfitting = criterion(pred_overfitting, y_train)\n",
    "    optimizer_overfitting.zero_grad()\n",
    "    loss_overfitting.backward()\n",
    "    optimizer_overfitting.step()\n",
    "    \n",
    "    # 包含dropout的网络：预测、损失函数、反向传播\n",
    "    pred_dropout = net_dropout(x_train)\n",
    "    loss_dropout = criterion(pred_dropout, y_train)\n",
    "    optimizer_dropout.zero_grad()\n",
    "    loss_dropout.backward()\n",
    "    optimizer_dropout.step()"
   ]
  },
  {
   "cell_type": "markdown",
   "id": "447bcd89",
   "metadata": {},
   "source": [
    "### 预测和可视化"
   ]
  },
  {
   "cell_type": "code",
   "execution_count": 5,
   "id": "42c10551",
   "metadata": {},
   "outputs": [
    {
     "data": {
      "image/png": "[encoded data removed]",
      "text/plain": [
       "<Figure size 432x288 with 1 Axes>"
      ]
     },
     "metadata": {
      "needs_background": "light"
     },
     "output_type": "display_data"
    }
   ],
   "source": [
    "# 在测试过程中不使用 Dropout\n",
    "net_overfitting.eval()\n",
    "net_dropout.eval()\n",
    "\n",
    "# 预测\n",
    "test_pred_overfitting = net_overfitting(x_test)\n",
    "test_pred_dropout = net_dropout(x_test)\n",
    "\n",
    "# 绘制拟合效果\n",
    "plt.scatter(x_train, y_train, c='r', alpha=0.3, label='train')\n",
    "plt.scatter(x_test, y_test, c='b', alpha=0.3, label='test')\n",
    "plt.plot(x_test, test_pred_overfitting.data.numpy(), 'r-', lw=2, label='overfitting')\n",
    "plt.plot(x_test, test_pred_dropout.data.numpy(), 'b--', lw=2, label='dropout')\n",
    "plt.legend(loc='upper left')\n",
    "plt.ylim((-2, 2))\n",
    "plt.show()"
   ]
  },
  {
   "cell_type": "code",
   "execution_count": null,
   "id": "f4d4fe39",
   "metadata": {},
   "outputs": [],
   "source": []
  }
 ],
 "metadata": {
  "kernelspec": {
   "display_name": "Python 3 (ipykernel)",
   "language": "python",
   "name": "python3"
  },
  "language_info": {
   "codemirror_mode": {
    "name": "ipython",
    "version": 3
   },
   "file_extension": ".py",
   "mimetype": "text/x-python",
   "name": "python",
   "nbconvert_exporter": "python",
   "pygments_lexer": "ipython3",
   "version": "3.8.10"
  }
 },
 "nbformat": 4,
 "nbformat_minor": 5
}
