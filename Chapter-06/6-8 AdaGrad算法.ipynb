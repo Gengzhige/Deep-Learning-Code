{
 "cells": [
  {
   "cell_type": "markdown",
   "metadata": {},
   "source": [
    "### 代码实现"
   ]
  },
  {
   "cell_type": "code",
   "execution_count": 2,
   "metadata": {},
   "outputs": [
    {
     "data": {
      "image/png": "[encoded data removed]",
      "text/plain": [
       "<Figure size 432x288 with 1 Axes>"
      ]
     },
     "metadata": {
      "needs_background": "light"
     },
     "output_type": "display_data"
    }
   ],
   "source": [
    "import torch\n",
    "import matplotlib.pyplot as plt\n",
    "\n",
    "# 假设我们有一个简单的线性回归模型\n",
    "# y = w * x + b\n",
    "# 其中 w 和 b 是需要学习的参数\n",
    "\n",
    "# 定义超参数\n",
    "learning_rate = 0.01\n",
    "num_epochs = 100\n",
    "\n",
    "# 随机生成训练数据\n",
    "X = torch.randn(100, 1)\n",
    "y = 2 * X + 3 + torch.randn(100, 1)\n",
    "\n",
    "# 初始化参数\n",
    "w = torch.zeros(1, requires_grad=True)\n",
    "b = torch.zeros(1, requires_grad=True)\n",
    "\n",
    "# 创建 Adagrad optimizer\n",
    "optimizer = torch.optim.Adagrad([w, b], lr=learning_rate)\n",
    "\n",
    "# 记录每次迭代的 loss\n",
    "losses = []\n",
    "\n",
    "# 训练模型\n",
    "for epoch in range(num_epochs):\n",
    "  # 计算预测值\n",
    "  y_pred = w * X + b\n",
    "\n",
    "  # 计算 loss\n",
    "  loss = torch.mean((y_pred - y) ** 2)\n",
    "\n",
    "  # 记录 loss\n",
    "  losses.append(loss.item())\n",
    "\n",
    "  # 清空上一步的梯度\n",
    "  optimizer.zero_grad()\n",
    "\n",
    "  # 计算梯度\n",
    "  loss.backward()\n",
    "\n",
    "  # 更新参数\n",
    "  optimizer.step()\n",
    "\n",
    "# 可视化训练过程\n",
    "plt.plot(losses)\n",
    "plt.xlabel('Epoch')\n",
    "plt.ylabel('Loss')\n",
    "plt.show()"
   ]
  },
  {
   "cell_type": "code",
   "execution_count": null,
   "metadata": {},
   "outputs": [],
   "source": []
  }
 ],
 "metadata": {
  "kernelspec": {
   "display_name": "Python 3 (ipykernel)",
   "language": "python",
   "name": "python3"
  },
  "language_info": {
   "codemirror_mode": {
    "name": "ipython",
    "version": 3
   },
   "file_extension": ".py",
   "mimetype": "text/x-python",
   "name": "python",
   "nbconvert_exporter": "python",
   "pygments_lexer": "ipython3",
   "version": "3.8.10"
  }
 },
 "nbformat": 4,
 "nbformat_minor": 4
}
