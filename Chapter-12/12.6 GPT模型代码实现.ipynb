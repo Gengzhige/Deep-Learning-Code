{
 "cells": [
  {
   "cell_type": "markdown",
   "id": "9ffd025a",
   "metadata": {},
   "source": [
    "## 1. 数据准备"
   ]
  },
  {
   "cell_type": "markdown",
   "id": "015f8d5b",
   "metadata": {},
   "source": [
    "### 1.1 代码包引入"
   ]
  },
  {
   "cell_type": "code",
   "execution_count": 1,
   "id": "200bc3bf",
   "metadata": {},
   "outputs": [],
   "source": [
    "import torch\n",
    "import torch.nn as nn\n",
    "import torch.utils.data as Data\n",
    "from torch import optim\n",
    "import numpy as np\n",
    "from tqdm import *\n",
    "import matplotlib.pyplot as plt\n",
    "import re\n",
    "import string\n",
    "from collections import Counter  # 计数类"
   ]
  },
  {
   "cell_type": "markdown",
   "id": "271a3a91",
   "metadata": {},
   "source": [
    "### 1.2 数据整理"
   ]
  },
  {
   "cell_type": "code",
   "execution_count": 2,
   "id": "24ea176c",
   "metadata": {},
   "outputs": [
    {
     "data": {
      "text/plain": [
       "['是时候教教你针线活了\\t手把手教\\t别，不用。\\n',\n",
       " '谢谢你所做的一切\\t你开心就好\\t开心\\t嗯因为你的心里只有学习\\t某某某，还有你\\t这个某某某用的好\\t\\n',\n",
       " '今天好点了吗？\\t一天比一天严重\\t吃药不管用，去打一针。别拖着\\t\\n',\n",
       " '加油，三月动起来，五月笑起来\\t正解你为什么就那么厉害呢\\t哈哈，没办法，智商就是这么高\\t你这是要开始得瑟了吗！好啦！你最厉害！\\t哈哈哈哈\\t\\n',\n",
       " '因为我网络差吗，加载不出来啊\\t是什么网络啊，移动的可能比较慢\\t啊真的是我自家网络的问题，用别家的就好了\\t\\n',\n",
       " '这个側颜可以\\t这个繁体很厉害\\t为了配你的颜\\t哥，\\t\\n',\n",
       " '对啊。你以为你是谁。留言就要回复吗\\t对啊，什么逻辑\\t大概是\\n',\n",
       " '保留几分\\t晾毛巾晾毛巾叫你天天晾毛巾\\t看看几点了还不快去吃饭\\t\\t\\n',\n",
       " '哈哈哈哈哈哈哈哈哈哈哈哈\\t你哈哈个啥\\t别人晒得都是某某某搞事情为啥只有你是瘦了！太尼玛懂你了笑哭我了\\t这个太假了\\t\\n',\n",
       " '看着就难吃\\t又不是你吃，莫操心\\t心疼你\\t滚蛋\\t不滚\\n']"
      ]
     },
     "execution_count": 2,
     "metadata": {},
     "output_type": "execute_result"
    }
   ],
   "source": [
    "with open('data/dataset.txt','r',encoding='utf-8') as f:\n",
    "    datas = f.readlines()\n",
    "datas[:10]"
   ]
  },
  {
   "cell_type": "code",
   "execution_count": 3,
   "id": "714abcf0",
   "metadata": {},
   "outputs": [
    {
     "name": "stdout",
     "output_type": "stream",
     "text": [
      "{'，', ' ', '\\n', \"'\", '？', '》', '《', '.', '。', '！', ',', '\"', ';', '!', '、', '?', '’', '\\t', '‘', '；'}\n"
     ]
    }
   ],
   "source": [
    "# 查看特殊字符\n",
    "content = ''.join(datas)\n",
    "special_char = re.sub(r'[\\u4e00-\\u9fa5]', ' ', content)  # 匹配中文，将中文替换掉\n",
    "\n",
    "print(set(special_char) - set(string.ascii_letters) - set(string.digits))"
   ]
  },
  {
   "cell_type": "code",
   "execution_count": 4,
   "id": "80c18643",
   "metadata": {},
   "outputs": [
    {
     "name": "stdout",
     "output_type": "stream",
     "text": [
      "tokens: [['是', '时', '候', '教', '教', '你', '针', '线', '活', '了', '<sep>', '手', '把', '手', '教', '<sep>', '别', '，', '不', '用', '。', '<sep>'], ['谢', '谢', '你', '所', '做', '的', '一', '切', '<sep>', '你', '开', '心', '就', '好', '<sep>', '开', '心', '<sep>', '嗯', '因', '为', '你', '的', '心', '里', '只', '有', '学', '习', '<sep>', '某', '某', '某', '，', '还', '有', '你', '<sep>', '这', '个', '某', '某', '某', '用', '的', '好', '<sep>'], ['今', '天', '好', '点', '了', '吗', '？', '<sep>', '一', '天', '比', '一', '天', '严', '重', '<sep>', '吃', '药', '不', '管', '用', '，', '去', '打', '一', '针', '。', '别', '拖', '着', '<sep>'], ['加', '油', '，', '三', '月', '动', '起', '来', '，', '五', '月', '笑', '起', '来', '<sep>', '正', '解', '你', '为', '什', '么', '就', '那', '么', '厉', '害', '呢', '<sep>', '哈', '哈', '，', '没', '办', '法', '，', '智', '商', '就', '是', '这', '么', '高', '<sep>', '你', '这', '是', '要', '开', '始', '得', '瑟', '了', '吗', '！', '好', '啦', '！', '你', '最', '厉', '害', '！', '<sep>', '哈', '哈', '哈', '哈', '<sep>'], ['因', '为', '我', '网', '络', '差', '吗', '，', '加', '载', '不', '出', '来', '啊', '<sep>', '是', '什', '么', '网', '络', '啊', '，', '移', '动', '的', '可', '能', '比', '较', '慢', '<sep>', '啊', '真', '的', '是', '我', '自', '家', '网', '络', '的', '问', '题', '，', '用', '别', '家', '的', '就', '好', '了', '<sep>'], ['这', '个', '側', '颜', '可', '以', '<sep>', '这', '个', '繁', '体', '很', '厉', '害', '<sep>', '为', '了', '配', '你', '的', '颜', '<sep>', '哥', '，', '<sep>']]\n"
     ]
    }
   ],
   "source": [
    "# 词元化\n",
    "def tokenize(datas):\n",
    "    # 存储词元\n",
    "    tokens = []\n",
    "    for data in datas:\n",
    "        data=data.strip().replace(\"\\n\",\"\")\n",
    "        token = [i if i!='\\t' else \"<sep>\" for i in data]+['<sep>']\n",
    "        tokens.append(token)\n",
    "    return tokens\n",
    "\n",
    "tokens = tokenize(datas)\n",
    "print(\"tokens:\", tokens[:6])"
   ]
  },
  {
   "cell_type": "markdown",
   "id": "6dcea6c3",
   "metadata": {},
   "source": [
    "### 1.3 构建词表"
   ]
  },
  {
   "cell_type": "code",
   "execution_count": 5,
   "id": "71488d94",
   "metadata": {},
   "outputs": [],
   "source": [
    "flatten = lambda l: [item for sublist in l for item in sublist]  # 展平数组\n",
    "# 构建词表\n",
    "class Vocab:\n",
    "    def __init__(self, tokens):\n",
    "        self.tokens = tokens  # 传入的tokens是二维列表\n",
    "        self.token2index = {'<pad>': 0, '<unk>': 1, '<sep>': 2}  # 先存好特殊词元\n",
    "        # 将词元按词频排序后生成列表\n",
    "        self.token2index.update({\n",
    "            token: index + 3\n",
    "            for index, (token, freq) in enumerate(\n",
    "                sorted(Counter(flatten(self.tokens)).items(), key=lambda x: x[1], reverse=True))\n",
    "        })\n",
    "        # 构建id到词元字典\n",
    "        self.index2token = {index: token for token, index in self.token2index.items()}\n",
    "\n",
    "    def __getitem__(self, query):\n",
    "        # 单一索引\n",
    "        if isinstance(query, (str, int)):\n",
    "            if isinstance(query, str):\n",
    "                return self.token2index.get(query, 0)\n",
    "            elif isinstance(query, (int)):\n",
    "                return self.index2token.get(query, '<unk>')\n",
    "        # 数组索引\n",
    "        elif isinstance(query, (list, tuple)):\n",
    "            return [self.__getitem__(item) for item in query]\n",
    "\n",
    "    def __len__(self):\n",
    "        return len(self.index2token)\n",
    "\n",
    "#实例化词表\n",
    "vocab = Vocab(tokens)\n",
    "vocab_size = len(vocab)"
   ]
  },
  {
   "cell_type": "markdown",
   "id": "7f1775af",
   "metadata": {},
   "source": [
    "### 1.4 构造数据集"
   ]
  },
  {
   "cell_type": "code",
   "execution_count": 6,
   "id": "46c5ec30",
   "metadata": {},
   "outputs": [],
   "source": [
    "# 构建自己的数据集类\n",
    "class MyDataSet(Data.Dataset):\n",
    "    def __init__(self,datas):\n",
    "        self.datas = datas\n",
    "\n",
    "    def __getitem__(self, item):\n",
    "        data = self.datas[item]\n",
    "        decoder_input = data[:-1]\n",
    "        decoder_output = data[1:]\n",
    "\n",
    "        decoder_input_len = len(decoder_input)\n",
    "        decoder_output_len = len(decoder_output)\n",
    "\n",
    "        return {\"decoder_input\":decoder_input,\"decoder_input_len\":decoder_input_len,\n",
    "                \"decoder_output\":decoder_output,\"decoder_output_len\":decoder_output_len}\n",
    "\n",
    "    def __len__(self):\n",
    "        return len(self.datas)\n",
    "\n",
    "    def padding_batch(self,batch):\n",
    "        # 批处理, 对每个批次的数据中，长度不够的序列填充<pad>\n",
    "        decoder_input_lens = [d[\"decoder_input_len\"] for d in batch]\n",
    "        decoder_output_lens = [d[\"decoder_output_len\"] for d in batch]\n",
    "\n",
    "        decoder_input_maxlen = max(decoder_input_lens)\n",
    "        decoder_output_maxlen = max(decoder_output_lens)\n",
    "\n",
    "        for d in batch:\n",
    "            d[\"decoder_input\"].extend([vocab[\"<pad>\"]]*(decoder_input_maxlen-d[\"decoder_input_len\"]))\n",
    "            d[\"decoder_output\"].extend([vocab[\"<pad>\"]]*(decoder_output_maxlen-d[\"decoder_output_len\"]))\n",
    "        decoder_inputs = torch.tensor([d[\"decoder_input\"] for d in batch], dtype=torch.long)\n",
    "        decoder_outputs = torch.tensor([d[\"decoder_output\"] for d in batch], dtype=torch.long)\n",
    "        return decoder_inputs,decoder_outputs"
   ]
  },
  {
   "cell_type": "code",
   "execution_count": 7,
   "id": "630d9554",
   "metadata": {},
   "outputs": [],
   "source": [
    "batch_size = 64\n",
    "# 构造数据集\n",
    "tokens_num = [[vocab[word] for word in line] for line in tokens] # 文本序列转id序列\n",
    "dataset = MyDataSet(tokens_num)\n",
    "data_loader = Data.DataLoader(dataset, batch_size=batch_size, collate_fn=dataset.padding_batch)"
   ]
  },
  {
   "cell_type": "markdown",
   "id": "b32974cf",
   "metadata": {},
   "source": [
    "## 2. 建立模型"
   ]
  },
  {
   "cell_type": "markdown",
   "id": "8bf674cc",
   "metadata": {},
   "source": [
    "### 2.1 掩码操作"
   ]
  },
  {
   "cell_type": "code",
   "execution_count": 8,
   "id": "535c160a",
   "metadata": {},
   "outputs": [],
   "source": [
    "# mask掉没有意义的占位符\n",
    "def get_attn_pad_mask(seq_q, seq_k):                       # seq_q: [batch_size, seq_len] ,seq_k: [batch_size, seq_len]\n",
    "    batch_size, len_q = seq_q.size()\n",
    "    batch_size, len_k = seq_k.size()\n",
    "    pad_attn_mask = seq_k.data.eq(0).unsqueeze(1)          # 判断 输入那些含有P(=0),用1标记 ,[batch_size, 1, len_k]\n",
    "    return pad_attn_mask.expand(batch_size, len_q, len_k)\n",
    "\n",
    "# mask掉未来信息\n",
    "def get_attn_subsequence_mask(seq):                               # seq: [batch_size, tgt_len]\n",
    "    attn_shape = [seq.size(0), seq.size(1), seq.size(1)]\n",
    "    subsequence_mask = np.triu(np.ones(attn_shape), k=1)          # 生成上三角矩阵,[batch_size, tgt_len, tgt_len]\n",
    "    subsequence_mask = torch.from_numpy(subsequence_mask).byte()  #  [batch_size, tgt_len, tgt_len]\n",
    "    subsequence_mask = subsequence_mask.to(device)\n",
    "    return subsequence_mask"
   ]
  },
  {
   "cell_type": "markdown",
   "id": "e9d8ba51",
   "metadata": {},
   "source": [
    "### 2.2 注意力计算函数"
   ]
  },
  {
   "cell_type": "code",
   "execution_count": 9,
   "id": "e3e9e702",
   "metadata": {},
   "outputs": [],
   "source": [
    "# 缩放点积注意力计算\n",
    "class ScaledDotProductAttention(nn.Module):\n",
    "    def __init__(self):\n",
    "        super(ScaledDotProductAttention, self).__init__()\n",
    "    def forward(self, Q, K, V, attn_mask):\n",
    "        '''\n",
    "        Q: [batch_size, n_heads, len_q, d_k]\n",
    "        K: [batch_size, n_heads, len_k, d_k]\n",
    "        V: [batch_size, n_heads, len_v(=len_k), d_v]\n",
    "        attn_mask: [batch_size, n_heads, seq_len, seq_len]\n",
    "        '''\n",
    "        scores = torch.matmul(Q, K.transpose(-1, -2)) / np.sqrt(d_k) # scores : [batch_size, n_heads, len_q, len_k]\n",
    "        scores.masked_fill_(attn_mask, -1e9) # Fills elements of self tensor with value where mask is True.\n",
    "        attn = nn.Softmax(dim=-1)(scores)\n",
    "        context = torch.matmul(attn, V) # [batch_size, n_heads, len_q, d_v]\n",
    "        return context, attn\n",
    "\n",
    "#多头注意力计算\n",
    "class MultiHeadAttention(nn.Module):\n",
    "    def __init__(self):\n",
    "        super(MultiHeadAttention, self).__init__()\n",
    "        self.W_Q = nn.Linear(d_model, d_k * n_heads, bias=False)\n",
    "        self.W_K = nn.Linear(d_model, d_k * n_heads, bias=False)\n",
    "        self.W_V = nn.Linear(d_model, d_v * n_heads, bias=False)\n",
    "        self.fc = nn.Linear(n_heads * d_v, d_model, bias=False)\n",
    "        self.layernorm = nn.LayerNorm(d_model)\n",
    "    def forward(self, input_Q, input_K, input_V, attn_mask):\n",
    "        '''\n",
    "        input_Q: [batch_size, len_q, d_model]\n",
    "        input_K: [batch_size, len_k, d_model]\n",
    "        input_V: [batch_size, len_v(=len_k), d_model]\n",
    "        attn_mask: [batch_size, seq_len, seq_len]\n",
    "        '''\n",
    "        residual, batch_size = input_Q, input_Q.size(0)\n",
    "        # (B, S, D) -proj-> (B, S, D_new) -split-> (B, S, H, W) -trans-> (B, H, S, W)\n",
    "        Q = self.W_Q(input_Q).view(batch_size, -1, n_heads, d_k).transpose(1,2) # Q: [batch_size, n_heads, len_q, d_k]\n",
    "        K = self.W_K(input_K).view(batch_size, -1, n_heads, d_k).transpose(1,2) # K: [batch_size, n_heads, len_k, d_k]\n",
    "        V = self.W_V(input_V).view(batch_size, -1, n_heads, d_v).transpose(1,2) # V: [batch_size, n_heads, len_v(=len_k), d_v]\n",
    "        attn_mask = attn_mask.unsqueeze(1).repeat(1, n_heads, 1, 1) # attn_mask : [batch_size, n_heads, seq_len, seq_len]\n",
    "        # context: [batch_size, n_heads, len_q, d_v], attn: [batch_size, n_heads, len_q, len_k]\n",
    "        context, attn = ScaledDotProductAttention()(Q, K, V, attn_mask)\n",
    "        context = context.transpose(1, 2).reshape(batch_size, -1, n_heads * d_v) # context: [batch_size, len_q, n_heads * d_v]\n",
    "        output = self.fc(context) # [batch_size, len_q, d_model]\n",
    "        return self.layernorm(output + residual), attn"
   ]
  },
  {
   "cell_type": "markdown",
   "id": "46ff28f5",
   "metadata": {},
   "source": [
    "### 2.3 构建前馈网络"
   ]
  },
  {
   "cell_type": "code",
   "execution_count": 10,
   "id": "9136dbb7",
   "metadata": {},
   "outputs": [],
   "source": [
    "class PoswiseFeedForwardNet(nn.Module):\n",
    "    def __init__(self):\n",
    "        super(PoswiseFeedForwardNet, self).__init__()\n",
    "        self.fc = nn.Sequential(\n",
    "            nn.Linear(d_model, d_ff, bias=False),\n",
    "            nn.ReLU(),\n",
    "            nn.Linear(d_ff, d_model, bias=False))\n",
    "        self.layernorm = nn.LayerNorm(d_model)\n",
    "\n",
    "    def forward(self, inputs):  # inputs: [batch_size, seq_len, d_model]\n",
    "        residual = inputs\n",
    "        output = self.fc(inputs)\n",
    "        return self.layernorm(output + residual)  # 残差 + LayerNorm"
   ]
  },
  {
   "cell_type": "markdown",
   "id": "edddc1ad",
   "metadata": {},
   "source": [
    "### 2.4 解码器模块"
   ]
  },
  {
   "cell_type": "code",
   "execution_count": 11,
   "id": "709d55a7",
   "metadata": {},
   "outputs": [],
   "source": [
    "# 解码器层\n",
    "class DecoderLayer(nn.Module):\n",
    "    def __init__(self):\n",
    "        super(DecoderLayer, self).__init__()\n",
    "        self.dec_self_attn = MultiHeadAttention()\n",
    "        self.pos_ffn = PoswiseFeedForwardNet()\n",
    "\n",
    "    def forward(self, dec_inputs, dec_self_attn_mask):\n",
    "        '''\n",
    "        dec_inputs: [batch_size, tgt_len, d_model]\n",
    "        dec_self_attn_mask: [batch_size, tgt_len, tgt_len]\n",
    "        '''\n",
    "        # dec_outputs: [batch_size, tgt_len, d_model], dec_self_attn: [batch_size, n_heads, tgt_len, tgt_len]\n",
    "        dec_outputs, dec_self_attn = self.dec_self_attn(dec_inputs, dec_inputs, dec_inputs, dec_self_attn_mask)\n",
    "        dec_outputs = self.pos_ffn(dec_outputs)  # [batch_size, tgt_len, d_model]\n",
    "        return dec_outputs, dec_self_attn\n",
    "\n",
    "\n",
    "# 解码器模块\n",
    "class Decoder(nn.Module):\n",
    "    def __init__(self):\n",
    "        super(Decoder, self).__init__()\n",
    "        self.tgt_emb = nn.Embedding(vocab_size, d_model)\n",
    "        self.pos_emb = nn.Embedding(seq_len, d_model)\n",
    "        self.layers = nn.ModuleList([DecoderLayer() for _ in range(n_layers)])\n",
    "\n",
    "    def forward(self, dec_inputs):\n",
    "        '''\n",
    "        dec_inputs: [batch_size, tgt_len]\n",
    "        '''\n",
    "        # 构建position embedding\n",
    "        seq_len = dec_inputs.size(1)\n",
    "        pos = torch.arange(seq_len, dtype=torch.long, device=device)\n",
    "        pos = pos.unsqueeze(0).expand_as(dec_inputs)  # [seq_len] -> [batch_size, seq_len]\n",
    "\n",
    "        word_emb = self.tgt_emb(dec_inputs)  # [batch_size, tgt_len, d_model]\n",
    "        pos_emb = self.pos_emb(pos)  # [batch_size, tgt_len, d_model]\n",
    "        dec_outputs = word_emb + pos_emb\n",
    "\n",
    "        dec_self_attn_pad_mask = get_attn_pad_mask(dec_inputs, dec_inputs)  # [batch_size, tgt_len, tgt_len]\n",
    "        dec_self_attn_subsequent_mask = get_attn_subsequence_mask(dec_inputs)  # [batch_size, tgt_len]\n",
    "        dec_self_attn_mask = torch.gt((dec_self_attn_pad_mask + dec_self_attn_subsequent_mask),\n",
    "                                      0)  # [batch_size, tgt_len, tgt_len]\n",
    "\n",
    "        dec_self_attns = []\n",
    "        for layer in self.layers:\n",
    "            # dec_outputs: [batch_size, tgt_len, d_model], dec_self_attn: [batch_size, n_heads, tgt_len, tgt_len]\n",
    "            dec_outputs, dec_self_attn = layer(dec_outputs, dec_self_attn_mask)\n",
    "            dec_self_attns.append(dec_self_attn)\n",
    "\n",
    "        return dec_outputs, dec_self_attns"
   ]
  },
  {
   "cell_type": "markdown",
   "id": "ae53c38e",
   "metadata": {},
   "source": [
    "### 2.5 GPT模型"
   ]
  },
  {
   "cell_type": "code",
   "execution_count": 12,
   "id": "ded899f9",
   "metadata": {},
   "outputs": [],
   "source": [
    "class GPT(nn.Module):\n",
    "    def __init__(self):\n",
    "        super(GPT, self).__init__()\n",
    "        self.decoder = Decoder()\n",
    "        self.projection = nn.Linear(d_model, vocab_size, bias=False)\n",
    "\n",
    "    def forward(self, dec_inputs):\n",
    "        \"\"\"\n",
    "        dec_inputs: [batch_size, tgt_len]\n",
    "        \"\"\"\n",
    "\n",
    "        # dec_outpus: [batch_size, tgt_len, d_model], dec_self_attns: [n_layers, batch_size, n_heads, tgt_len, tgt_len]\n",
    "        dec_outputs, dec_self_attns = self.decoder(dec_inputs)\n",
    "        # dec_logits: [batch_size, tgt_len, tgt_vocab_size]\n",
    "        dec_logits = self.projection(dec_outputs)\n",
    "        return dec_logits.view(-1, dec_logits.size(-1)), dec_self_attns\n",
    "\n",
    "    def answer(self, above): # 生成回复\n",
    "        \n",
    "        dec_input = [vocab[word] for word in above]\n",
    "        dec_input.append(vocab['<sep>']) # 原始句子后面增加<sep>\n",
    "        dec_input = torch.tensor(dec_input, dtype=torch.long, device=device).unsqueeze(0)\n",
    "\n",
    "        # 循环生成下一个单词\n",
    "        for i in range(100):\n",
    "\n",
    "            dec_outputs, _ = self.decoder(dec_input)\n",
    "            projected = self.projection(dec_outputs)\n",
    "            prob = projected.squeeze(0).max(dim=-1, keepdim=False)[1]\n",
    "            next_id = prob.data[-1]\n",
    "\n",
    "            if next_id == vocab[\"<sep>\"]: # 到出现\"<sep>\"结束\n",
    "                break\n",
    "\n",
    "            dec_input = torch.cat(\n",
    "                [dec_input.detach(), torch.tensor([[next_id]], dtype=dec_input.dtype, device=device)], -1)\n",
    "\n",
    "        output = dec_input.squeeze(0)\n",
    "        sequence = [vocab[int(id)] for id in output] # id转文字\n",
    "\n",
    "        answer = \"\".join(sequence)\n",
    "        answer = answer[answer.rindex(\"<sep>\")+5: ] # 取最后一个<sep>后面部分, +5 是加上<sep>本身的长度\n",
    "\n",
    "        return answer"
   ]
  },
  {
   "cell_type": "markdown",
   "id": "30e9e92c",
   "metadata": {},
   "source": [
    "## 3. 模型训练"
   ]
  },
  {
   "cell_type": "code",
   "execution_count": 13,
   "id": "fabd71ab",
   "metadata": {
    "scrolled": true
   },
   "outputs": [
    {
     "name": "stderr",
     "output_type": "stream",
     "text": [
      "100%|██████████| 3895/3895 [18:04<00:00,  3.59it/s]\n"
     ]
    },
    {
     "name": "stdout",
     "output_type": "stream",
     "text": [
      "\tTrain Loss: 4.293\n"
     ]
    },
    {
     "name": "stderr",
     "output_type": "stream",
     "text": [
      "100%|██████████| 3895/3895 [18:05<00:00,  3.59it/s]\n"
     ]
    },
    {
     "name": "stdout",
     "output_type": "stream",
     "text": [
      "\tTrain Loss: 3.807\n"
     ]
    },
    {
     "name": "stderr",
     "output_type": "stream",
     "text": [
      "100%|██████████| 3895/3895 [17:51<00:00,  3.64it/s]\n"
     ]
    },
    {
     "name": "stdout",
     "output_type": "stream",
     "text": [
      "\tTrain Loss: 3.611\n"
     ]
    },
    {
     "name": "stderr",
     "output_type": "stream",
     "text": [
      "100%|██████████| 3895/3895 [17:50<00:00,  3.64it/s]\n"
     ]
    },
    {
     "name": "stdout",
     "output_type": "stream",
     "text": [
      "\tTrain Loss: 3.466\n"
     ]
    },
    {
     "name": "stderr",
     "output_type": "stream",
     "text": [
      "100%|██████████| 3895/3895 [17:51<00:00,  3.64it/s]\n"
     ]
    },
    {
     "name": "stdout",
     "output_type": "stream",
     "text": [
      "\tTrain Loss: 3.340\n"
     ]
    },
    {
     "name": "stderr",
     "output_type": "stream",
     "text": [
      "100%|██████████| 3895/3895 [17:50<00:00,  3.64it/s]\n"
     ]
    },
    {
     "name": "stdout",
     "output_type": "stream",
     "text": [
      "\tTrain Loss: 3.223\n"
     ]
    },
    {
     "name": "stderr",
     "output_type": "stream",
     "text": [
      "100%|██████████| 3895/3895 [17:51<00:00,  3.64it/s]\n"
     ]
    },
    {
     "name": "stdout",
     "output_type": "stream",
     "text": [
      "\tTrain Loss: 3.113\n"
     ]
    },
    {
     "name": "stderr",
     "output_type": "stream",
     "text": [
      "100%|██████████| 3895/3895 [17:50<00:00,  3.64it/s]\n"
     ]
    },
    {
     "name": "stdout",
     "output_type": "stream",
     "text": [
      "\tTrain Loss: 3.010\n"
     ]
    },
    {
     "name": "stderr",
     "output_type": "stream",
     "text": [
      "100%|██████████| 3895/3895 [17:50<00:00,  3.64it/s]\n"
     ]
    },
    {
     "name": "stdout",
     "output_type": "stream",
     "text": [
      "\tTrain Loss: 2.918\n"
     ]
    },
    {
     "name": "stderr",
     "output_type": "stream",
     "text": [
      "100%|██████████| 3895/3895 [17:50<00:00,  3.64it/s]\n"
     ]
    },
    {
     "name": "stdout",
     "output_type": "stream",
     "text": [
      "\tTrain Loss: 2.837\n"
     ]
    },
    {
     "name": "stderr",
     "output_type": "stream",
     "text": [
      "100%|██████████| 3895/3895 [17:49<00:00,  3.64it/s]\n"
     ]
    },
    {
     "name": "stdout",
     "output_type": "stream",
     "text": [
      "\tTrain Loss: 2.767\n"
     ]
    },
    {
     "name": "stderr",
     "output_type": "stream",
     "text": [
      "100%|██████████| 3895/3895 [17:50<00:00,  3.64it/s]\n"
     ]
    },
    {
     "name": "stdout",
     "output_type": "stream",
     "text": [
      "\tTrain Loss: 2.704\n"
     ]
    },
    {
     "name": "stderr",
     "output_type": "stream",
     "text": [
      "100%|██████████| 3895/3895 [17:49<00:00,  3.64it/s]\n"
     ]
    },
    {
     "name": "stdout",
     "output_type": "stream",
     "text": [
      "\tTrain Loss: 2.648\n"
     ]
    },
    {
     "name": "stderr",
     "output_type": "stream",
     "text": [
      "100%|██████████| 3895/3895 [17:50<00:00,  3.64it/s]\n"
     ]
    },
    {
     "name": "stdout",
     "output_type": "stream",
     "text": [
      "\tTrain Loss: 2.595\n"
     ]
    },
    {
     "name": "stderr",
     "output_type": "stream",
     "text": [
      "100%|██████████| 3895/3895 [17:49<00:00,  3.64it/s]\n"
     ]
    },
    {
     "name": "stdout",
     "output_type": "stream",
     "text": [
      "\tTrain Loss: 2.546\n"
     ]
    },
    {
     "name": "stderr",
     "output_type": "stream",
     "text": [
      "100%|██████████| 3895/3895 [17:50<00:00,  3.64it/s]\n"
     ]
    },
    {
     "name": "stdout",
     "output_type": "stream",
     "text": [
      "\tTrain Loss: 2.499\n"
     ]
    },
    {
     "name": "stderr",
     "output_type": "stream",
     "text": [
      "100%|██████████| 3895/3895 [17:49<00:00,  3.64it/s]\n"
     ]
    },
    {
     "name": "stdout",
     "output_type": "stream",
     "text": [
      "\tTrain Loss: 2.457\n"
     ]
    },
    {
     "name": "stderr",
     "output_type": "stream",
     "text": [
      "100%|██████████| 3895/3895 [17:49<00:00,  3.64it/s]\n"
     ]
    },
    {
     "name": "stdout",
     "output_type": "stream",
     "text": [
      "\tTrain Loss: 2.416\n"
     ]
    },
    {
     "name": "stderr",
     "output_type": "stream",
     "text": [
      "100%|██████████| 3895/3895 [17:50<00:00,  3.64it/s]\n"
     ]
    },
    {
     "name": "stdout",
     "output_type": "stream",
     "text": [
      "\tTrain Loss: 2.378\n"
     ]
    },
    {
     "name": "stderr",
     "output_type": "stream",
     "text": [
      "100%|██████████| 3895/3895 [17:51<00:00,  3.63it/s]\n"
     ]
    },
    {
     "name": "stdout",
     "output_type": "stream",
     "text": [
      "\tTrain Loss: 2.342\n"
     ]
    },
    {
     "name": "stderr",
     "output_type": "stream",
     "text": [
      "100%|██████████| 3895/3895 [17:52<00:00,  3.63it/s]\n"
     ]
    },
    {
     "name": "stdout",
     "output_type": "stream",
     "text": [
      "\tTrain Loss: 2.308\n"
     ]
    },
    {
     "name": "stderr",
     "output_type": "stream",
     "text": [
      "100%|██████████| 3895/3895 [18:05<00:00,  3.59it/s]\n"
     ]
    },
    {
     "name": "stdout",
     "output_type": "stream",
     "text": [
      "\tTrain Loss: 2.276\n"
     ]
    },
    {
     "name": "stderr",
     "output_type": "stream",
     "text": [
      "100%|██████████| 3895/3895 [18:08<00:00,  3.58it/s]\n"
     ]
    },
    {
     "name": "stdout",
     "output_type": "stream",
     "text": [
      "\tTrain Loss: 2.245\n"
     ]
    },
    {
     "name": "stderr",
     "output_type": "stream",
     "text": [
      "100%|██████████| 3895/3895 [18:08<00:00,  3.58it/s]\n"
     ]
    },
    {
     "name": "stdout",
     "output_type": "stream",
     "text": [
      "\tTrain Loss: 2.216\n"
     ]
    },
    {
     "name": "stderr",
     "output_type": "stream",
     "text": [
      "100%|██████████| 3895/3895 [18:08<00:00,  3.58it/s]\n"
     ]
    },
    {
     "name": "stdout",
     "output_type": "stream",
     "text": [
      "\tTrain Loss: 2.188\n"
     ]
    },
    {
     "name": "stderr",
     "output_type": "stream",
     "text": [
      "100%|██████████| 3895/3895 [18:08<00:00,  3.58it/s]\n"
     ]
    },
    {
     "name": "stdout",
     "output_type": "stream",
     "text": [
      "\tTrain Loss: 2.163\n"
     ]
    },
    {
     "name": "stderr",
     "output_type": "stream",
     "text": [
      "100%|██████████| 3895/3895 [18:08<00:00,  3.58it/s]\n"
     ]
    },
    {
     "name": "stdout",
     "output_type": "stream",
     "text": [
      "\tTrain Loss: 2.138\n"
     ]
    },
    {
     "name": "stderr",
     "output_type": "stream",
     "text": [
      "100%|██████████| 3895/3895 [18:08<00:00,  3.58it/s]\n"
     ]
    },
    {
     "name": "stdout",
     "output_type": "stream",
     "text": [
      "\tTrain Loss: 2.114\n"
     ]
    },
    {
     "name": "stderr",
     "output_type": "stream",
     "text": [
      "100%|██████████| 3895/3895 [18:08<00:00,  3.58it/s]\n"
     ]
    },
    {
     "name": "stdout",
     "output_type": "stream",
     "text": [
      "\tTrain Loss: 2.091\n"
     ]
    },
    {
     "name": "stderr",
     "output_type": "stream",
     "text": [
      "100%|██████████| 3895/3895 [18:09<00:00,  3.58it/s]\n"
     ]
    },
    {
     "name": "stdout",
     "output_type": "stream",
     "text": [
      "\tTrain Loss: 2.070\n"
     ]
    }
   ],
   "source": [
    "# 定义超参数\n",
    "device = torch.device(\"cuda\") if torch.cuda.is_available() else torch.device(\"cpu\")\n",
    "seq_len = 300  # 序列最大长度\n",
    "d_model = 768  # Embedding维度\n",
    "d_ff = 2048  # 前馈层维度\n",
    "d_k = d_v = 64  # QKV维度\n",
    "n_layers = 6  # 解码器层数\n",
    "n_heads = 8  # 多头注意力头数\n",
    "batch_size = 64\n",
    "epochs = 30\n",
    "\n",
    "# 定义模型\n",
    "model = GPT().to(device)\n",
    "# 定义损失函数和优化器\n",
    "criterion = nn.CrossEntropyLoss(ignore_index=0).to(device)\n",
    "optimizer = optim.Adam(model.parameters(), lr=1e-4)\n",
    "\n",
    "loss_history = [] # 记录损失变化\n",
    "for epoch in range(epochs):\n",
    "    model.train()\n",
    "    epoch_loss = 0\n",
    "    for i, (dec_inputs, dec_outputs) in enumerate(tqdm(data_loader)):\n",
    "        optimizer.zero_grad()\n",
    "        dec_inputs, dec_outputs =dec_inputs.to(device), dec_outputs.to(device)\n",
    "        # outputs: [batch_size * tgt_len, tgt_vocab_size]\n",
    "        outputs, dec_self_attns = model(dec_inputs)\n",
    "\n",
    "        loss = criterion(outputs, dec_outputs.view(-1))\n",
    "        epoch_loss += loss.item()\n",
    "        loss.backward()\n",
    "        optimizer.step()\n",
    "    train_loss = epoch_loss / len(data_loader)\n",
    "    loss_history.append(train_loss)   # 记录损失变化\n",
    "    print(f'\\tTrain Loss: {train_loss:.3f}')\n",
    "    torch.save(model.state_dict(), 'model/gpt_chat.pt') # 保存模型"
   ]
  },
  {
   "cell_type": "code",
   "execution_count": 15,
   "id": "6b5eb402",
   "metadata": {},
   "outputs": [
    {
     "data": {
      "image/png": "[encoded data removed]",
      "text/plain": [
       "<Figure size 640x480 with 1 Axes>"
      ]
     },
     "metadata": {},
     "output_type": "display_data"
    }
   ],
   "source": [
    "plt.plot(loss_history)\n",
    "plt.ylabel('train loss')\n",
    "plt.show()"
   ]
  },
  {
   "cell_type": "markdown",
   "id": "2eced05a",
   "metadata": {},
   "source": [
    "## 4. 效果测试"
   ]
  },
  {
   "cell_type": "code",
   "execution_count": 16,
   "id": "553d19c7",
   "metadata": {},
   "outputs": [
    {
     "name": "stdout",
     "output_type": "stream",
     "text": [
      "你好\n"
     ]
    }
   ],
   "source": [
    "model = GPT().to(device)\n",
    "model.load_state_dict(torch.load('model/gpt_chat.pt')) # 加载训练好的模型\n",
    "model.eval()\n",
    "ask = \"你好啊\"\n",
    "print(model.answer(ask))"
   ]
  },
  {
   "cell_type": "code",
   "execution_count": 17,
   "id": "e9d4a651",
   "metadata": {},
   "outputs": [
    {
     "name": "stdout",
     "output_type": "stream",
     "text": [
      "金香菇和金香\n"
     ]
    }
   ],
   "source": [
    "ask = \"你叫什么名字\"\n",
    "print(model.answer(ask))"
   ]
  },
  {
   "cell_type": "code",
   "execution_count": 18,
   "id": "8bd17408",
   "metadata": {},
   "outputs": [
    {
     "name": "stdout",
     "output_type": "stream",
     "text": [
      "今天天气好了吗\n"
     ]
    }
   ],
   "source": [
    "ask = \"今天天气不错\"\n",
    "print(model.answer(ask))"
   ]
  }
 ],
 "metadata": {
  "kernelspec": {
   "display_name": "Python 3 (ipykernel)",
   "language": "python",
   "name": "python3"
  },
  "language_info": {
   "codemirror_mode": {
    "name": "ipython",
    "version": 3
   },
   "file_extension": ".py",
   "mimetype": "text/x-python",
   "name": "python",
   "nbconvert_exporter": "python",
   "pygments_lexer": "ipython3",
   "version": "3.8.10"
  },
  "toc": {
   "base_numbering": 1,
   "nav_menu": {},
   "number_sections": true,
   "sideBar": true,
   "skip_h1_title": false,
   "title_cell": "Table of Contents",
   "title_sidebar": "Contents",
   "toc_cell": false,
   "toc_position": {},
   "toc_section_display": true,
   "toc_window_display": false
  }
 },
 "nbformat": 4,
 "nbformat_minor": 5
}
